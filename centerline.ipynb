{
 "cells": [
  {
   "cell_type": "markdown",
   "metadata": {},
   "source": [
    "<h2>Centerline</h2>\n",
    "\n",
    "In this project, we use a centerline during the training phase to help the agent to avoid walls and to follow the track.\n",
    "\n",
    "One way of defining such a trajectory is to make a human play the track safetly and save car's data at regular timesteps.\n",
    "\n",
    "We also use states of the game to rewind the car at a random positions on the track."
   ]
  },
  {
   "cell_type": "code",
   "execution_count": 113,
   "metadata": {},
   "outputs": [],
   "source": [
    "import os\n",
    "import time\n",
    "import pickle\n",
    "import keyboard\n",
    "import numpy as np\n",
    "\n",
    "import tminterface as tmi\n",
    "from tminterface.interface import TMInterface, Client"
   ]
  },
  {
   "cell_type": "code",
   "execution_count": 3,
   "metadata": {},
   "outputs": [
    {
     "data": {
      "text/plain": [
       "True"
      ]
     },
     "execution_count": 3,
     "metadata": {},
     "output_type": "execute_result"
    }
   ],
   "source": [
    "# Instantiate the Interface\n",
    "# The client is used to connect the interface to the TMI server\n",
    "# The interface runs itself in a separate thread\n",
    "\n",
    "interface = TMInterface()\n",
    "client = Client()\n",
    "\n",
    "interface.register(client)"
   ]
  },
  {
   "cell_type": "code",
   "execution_count": 110,
   "metadata": {},
   "outputs": [],
   "source": [
    "state = interface.get_simulation_state()"
   ]
  },
  {
   "cell_type": "code",
   "execution_count": 111,
   "metadata": {},
   "outputs": [
    {
     "name": "stdout",
     "output_type": "stream",
     "text": [
      "[HmsDynaStateStruct object at 0x2007ed2dae0]\n",
      "quat (ndarray): \n",
      "\t[0.04067126289010048 -4.430955414136406e-06 -0.9991726875305176\n",
      "\t 8.828952502426546e-08]\n",
      "rotation (ndarray): \n",
      "\t[[-0.9966920614242554 8.847398021316621e-06 -0.08127523213624954]\n",
      "\t [8.86176076164702e-06 1.0 1.8399214241071604e-07]\n",
      "\t [0.08127523213624954 -5.368580673348333e-07 -0.9966920614242554]]\n",
      "position (ndarray): [611.6317749023438 9.358945846557617 597.2733154296875]\n",
      "linear_speed (ndarray): [-0.008326033130288124 -2.932654297183035e-06 0.0006789963226765394]\n",
      "add_linear_speed (ndarray): [0.0 0.0 0.0]\n",
      "angular_speed (ndarray): [7.07295403117314e-05 -2.4981636204124413e-10 0.0008842874085530639]\n",
      "force (ndarray): [-1.6655386686325073 0.00011350531713105738 0.13581641018390656]\n",
      "torque (ndarray): [0.01205363031476736 -2.9802322387695312e-08 0.14735575020313263]\n",
      "inverse_inertia_tensor (ndarray): \n",
      "\t[[0.4847564399242401 -1.0767983837922657e-08 0.05832459777593613]\n",
      "\t [-1.0767983837922657e-08 0.48000001907348633 -1.3203610649270558e-07]\n",
      "\t [0.05832459405064583 -1.3203607807099615e-07 1.1952447891235352]]\n",
      "unknown (float): 0.0\n",
      "not_tweaked_linear_speed (ndarray): [0.0 0.0 0.0]\n",
      "owner (int): 563685784\n"
     ]
    }
   ],
   "source": [
    "# HELPERS \n",
    "\n",
    "# Dynamic state of the car. Position, rotation, speed, etc...\n",
    "#print(state.dyna.current_state)\n",
    "\n",
    "# Data about wheels (index 1 out of 4). Contact with the ground, sliding...\n",
    "#print(state.simulation_wheels[0])\n",
    "\n",
    "# Time in milisseconds\n",
    "#print(state.time / 1000 / 60)"
   ]
  },
  {
   "cell_type": "code",
   "execution_count": 62,
   "metadata": {},
   "outputs": [],
   "source": [
    "TRACK_DATA_PATH = \"track_data/\"\n",
    "track_name = \"A01\"\n",
    "\n",
    "def create_folder_path(track_name):\n",
    "    \n",
    "    track_folder = os.path.join(TRACK_DATA_PATH, track_name)\n",
    "    \n",
    "    if os.path.exists(track_folder):\n",
    "        n_run = len(os.listdir(track_folder))\n",
    "    else:\n",
    "        os.makedirs(track_folder)\n",
    "        n_run = 0\n",
    "    \n",
    "    run_folder = os.path.join(track_folder, 'run-%s' % (n_run + 1))\n",
    "    \n",
    "    os.makedirs(run_folder)\n",
    "    \n",
    "    return run_folder"
   ]
  },
  {
   "cell_type": "code",
   "execution_count": 114,
   "metadata": {},
   "outputs": [
    {
     "name": "stdout",
     "output_type": "stream",
     "text": [
      "Waiting for player to move\n",
      "Start to record data\n"
     ]
    }
   ],
   "source": [
    "\"\"\"\n",
    "    Main Loop used to capture game data\n",
    "\"\"\"\n",
    "\n",
    "run_folder = create_folder_path(track_name=track_name)\n",
    "\n",
    "# Time in milisseconds\n",
    "save_position_every = 1_000\n",
    "save_state_every = 1_000\n",
    "\n",
    "state = interface.get_simulation_state()\n",
    "\n",
    "# Setup initial position and state before player starts to move\n",
    "positions = [{\n",
    "    'time': None,\n",
    "    'position': state.dyna.current_state.position\n",
    "}]\n",
    "pickle.dump(state, open(os.path.join(run_folder, f\"state_{0:05d}.pkl\"), \"wb\"))\n",
    "n_saved_states = 1\n",
    "\n",
    "# Wait for the user to move to start saving data\n",
    "print(\"Waiting for player to move\")\n",
    "while np.linalg.norm(state.dyna.current_state.linear_speed) < 0.1:\n",
    "    state = interface.get_simulation_state()\n",
    "\n",
    "positions[0]['time'] = state.time\n",
    "\n",
    "print(\"Start to record data\")\n",
    "\n",
    "start_time = state.time\n",
    "\n",
    "while True:\n",
    "    time.sleep(.1)\n",
    "    \n",
    "    if keyboard.is_pressed(\"q\"):\n",
    "        break\n",
    "    \n",
    "    state = interface.get_simulation_state()\n",
    "    \n",
    "    if (state.time - start_time) / save_position_every > len(positions):\n",
    "        positions.append({\n",
    "            'time': state.time,\n",
    "            'position': state.dyna.current_state.position\n",
    "        })\n",
    "        \n",
    "    if (state.time - start_time) / save_state_every > n_saved_states:\n",
    "        pickle.dump(state, open(os.path.join(run_folder, f\"state_{n_saved_states:05d}.pkl\"), \"wb\"))\n",
    "        n_saved_states += 1\n",
    "\n",
    "pickle.dump(positions, open(os.path.join(run_folder, \"positions.pkl\"), \"wb\"))"
   ]
  },
  {
   "cell_type": "code",
   "execution_count": 116,
   "metadata": {},
   "outputs": [],
   "source": [
    "\"\"\"\n",
    "    Rewind the game to a specific state\n",
    "\"\"\"\n",
    "\n",
    "state_files = list(filter(lambda x: x.startswith(\"state\"), os.listdir(run_folder)))\n",
    "\n",
    "for state_file in state_files:\n",
    "    state = pickle.load(open(os.path.join(run_folder, state_file), \"rb\"))\n",
    "    interface.rewind_to_state(state)\n",
    "    time.sleep(1)"
   ]
  },
  {
   "cell_type": "code",
   "execution_count": 117,
   "metadata": {},
   "outputs": [
    {
     "name": "stdout",
     "output_type": "stream",
     "text": [
      "{'time': 5090, 'position': [ArrayFieldProxy object at 0x2007ea3bfd0]\n",
      "Data: [980.8002319335938 9.356952667236328 656.001220703125]}\n"
     ]
    }
   ],
   "source": [
    "\"\"\"\n",
    "    Load positions\n",
    "\"\"\"\n",
    "\n",
    "positions = pickle.load(open(os.path.join(run_folder, \"positions.pkl\"), \"rb\"))\n",
    "print(positions[0])"
   ]
  }
 ],
 "metadata": {
  "kernelspec": {
   "display_name": ".venv_tmrl",
   "language": "python",
   "name": "python3"
  },
  "language_info": {
   "codemirror_mode": {
    "name": "ipython",
    "version": 3
   },
   "file_extension": ".py",
   "mimetype": "text/x-python",
   "name": "python",
   "nbconvert_exporter": "python",
   "pygments_lexer": "ipython3",
   "version": "3.10.11"
  }
 },
 "nbformat": 4,
 "nbformat_minor": 2
}
