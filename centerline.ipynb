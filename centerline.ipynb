{
 "cells": [
  {
   "cell_type": "markdown",
   "metadata": {},
   "source": [
    "<h2>Centerline</h2>\n",
    "\n",
    "In this project, we use a centerline during the training phase to help the agent to avoid walls and to follow the track.\n",
    "\n",
    "One way of defining such a trajectory is to make a human play the track safetly and save car's data at regular timesteps.\n",
    "\n",
    "We also use states of the game to rewind the car at a random positions on the track."
   ]
  },
  {
   "cell_type": "code",
   "execution_count": 1,
   "metadata": {},
   "outputs": [],
   "source": [
    "import os\n",
    "import time\n",
    "import pickle\n",
    "import keyboard\n",
    "import numpy as np\n",
    "import random\n",
    "\n",
    "import tminterface as tmi\n",
    "from tminterface.interface import TMInterface, Client"
   ]
  },
  {
   "cell_type": "code",
   "execution_count": 2,
   "metadata": {},
   "outputs": [
    {
     "data": {
      "text/plain": [
       "True"
      ]
     },
     "execution_count": 2,
     "metadata": {},
     "output_type": "execute_result"
    }
   ],
   "source": [
    "# Instantiate the Interface\n",
    "# The client is used to connect the interface to the TMI server\n",
    "# The interface runs itself in a separate thread\n",
    "\n",
    "interface = TMInterface()\n",
    "client = Client()\n",
    "\n",
    "interface.register(client)"
   ]
  },
  {
   "cell_type": "code",
   "execution_count": 3,
   "metadata": {},
   "outputs": [],
   "source": [
    "state = interface.get_simulation_state()"
   ]
  },
  {
   "cell_type": "code",
   "execution_count": 4,
   "metadata": {},
   "outputs": [],
   "source": [
    "# HELPERS \n",
    "\n",
    "# Dynamic state of the car. Position, rotation, speed, etc...\n",
    "#print(state.dyna.current_state)\n",
    "\n",
    "# Data about wheels (index 1 out of 4). Contact with the ground, sliding...\n",
    "#print(state.simulation_wheels[0])\n",
    "\n",
    "# Time in milisseconds\n",
    "#print(state.time / 1000 / 60)"
   ]
  },
  {
   "cell_type": "code",
   "execution_count": 5,
   "metadata": {},
   "outputs": [],
   "source": [
    "TRACK_DATA_PATH = \"track_data/\"\n",
    "track_name = \"Straight_Line\"\n",
    "\n",
    "def create_folder_path(track_name):\n",
    "    \n",
    "    track_folder = os.path.join(TRACK_DATA_PATH, track_name)\n",
    "    \n",
    "    if os.path.exists(track_folder):\n",
    "        n_run = len(os.listdir(track_folder))\n",
    "    else:\n",
    "        os.makedirs(track_folder)\n",
    "        n_run = 0\n",
    "    \n",
    "    run_folder = os.path.join(track_folder, 'run-%s' % (n_run + 1))\n",
    "    \n",
    "    os.makedirs(run_folder)\n",
    "    \n",
    "    return run_folder"
   ]
  },
  {
   "cell_type": "markdown",
   "metadata": {},
   "source": [
    "## Main Loop used to capture game data"
   ]
  },
  {
   "cell_type": "code",
   "execution_count": 6,
   "metadata": {},
   "outputs": [
    {
     "ename": "KeyboardInterrupt",
     "evalue": "",
     "output_type": "error",
     "traceback": [
      "\u001b[1;31m---------------------------------------------------------------------------\u001b[0m",
      "\u001b[1;31mKeyboardInterrupt\u001b[0m                         Traceback (most recent call last)",
      "Cell \u001b[1;32mIn[6], line 7\u001b[0m\n\u001b[0;32m      4\u001b[0m save_position_every \u001b[38;5;241m=\u001b[39m \u001b[38;5;241m10\u001b[39m\n\u001b[0;32m      5\u001b[0m save_state_every \u001b[38;5;241m=\u001b[39m \u001b[38;5;241m5_000\u001b[39m\n\u001b[1;32m----> 7\u001b[0m state \u001b[38;5;241m=\u001b[39m \u001b[43minterface\u001b[49m\u001b[38;5;241;43m.\u001b[39;49m\u001b[43mget_simulation_state\u001b[49m\u001b[43m(\u001b[49m\u001b[43m)\u001b[49m\n\u001b[0;32m      8\u001b[0m \u001b[38;5;66;03m# Wait for the user to move to start saving data\u001b[39;00m\n\u001b[0;32m      9\u001b[0m \u001b[38;5;28mprint\u001b[39m(\u001b[38;5;124m\"\u001b[39m\u001b[38;5;124mWaiting for player to move\u001b[39m\u001b[38;5;124m\"\u001b[39m)\n",
      "File \u001b[1;32m~\\miniconda3\\envs\\tm\\Lib\\site-packages\\tminterface\\interface.py:587\u001b[0m, in \u001b[0;36mTMInterface.get_simulation_state\u001b[1;34m(self)\u001b[0m\n\u001b[0;32m    585\u001b[0m msg \u001b[38;5;241m=\u001b[39m Message(MessageType\u001b[38;5;241m.\u001b[39mC_SIM_GET_STATE)\n\u001b[0;32m    586\u001b[0m \u001b[38;5;28mself\u001b[39m\u001b[38;5;241m.\u001b[39m_send_message(msg)\n\u001b[1;32m--> 587\u001b[0m \u001b[38;5;28;43mself\u001b[39;49m\u001b[38;5;241;43m.\u001b[39;49m\u001b[43m_wait_for_server_response\u001b[49m\u001b[43m(\u001b[49m\u001b[38;5;28;43;01mFalse\u001b[39;49;00m\u001b[43m)\u001b[49m\n\u001b[0;32m    589\u001b[0m \u001b[38;5;28mself\u001b[39m\u001b[38;5;241m.\u001b[39mmfile\u001b[38;5;241m.\u001b[39mseek(\u001b[38;5;241m4\u001b[39m)\n\u001b[0;32m    590\u001b[0m error_code \u001b[38;5;241m=\u001b[39m \u001b[38;5;28mself\u001b[39m\u001b[38;5;241m.\u001b[39m_read_int32()\n",
      "File \u001b[1;32m~\\miniconda3\\envs\\tm\\Lib\\site-packages\\tminterface\\interface.py:924\u001b[0m, in \u001b[0;36mTMInterface._wait_for_server_response\u001b[1;34m(self, clear)\u001b[0m\n\u001b[0;32m    922\u001b[0m \u001b[38;5;28;01mwhile\u001b[39;00m \u001b[38;5;28mself\u001b[39m\u001b[38;5;241m.\u001b[39m_read_int32() \u001b[38;5;241m!=\u001b[39m MessageType\u001b[38;5;241m.\u001b[39mS_RESPONSE \u001b[38;5;241m|\u001b[39m \u001b[38;5;241m0xFF00\u001b[39m:\n\u001b[0;32m    923\u001b[0m     \u001b[38;5;28mself\u001b[39m\u001b[38;5;241m.\u001b[39mmfile\u001b[38;5;241m.\u001b[39mseek(\u001b[38;5;241m0\u001b[39m)\n\u001b[1;32m--> 924\u001b[0m     \u001b[43mtime\u001b[49m\u001b[38;5;241;43m.\u001b[39;49m\u001b[43msleep\u001b[49m\u001b[43m(\u001b[49m\u001b[38;5;241;43m0\u001b[39;49m\u001b[43m)\u001b[49m\n\u001b[0;32m    926\u001b[0m \u001b[38;5;28;01mif\u001b[39;00m clear:\n\u001b[0;32m    927\u001b[0m     \u001b[38;5;28mself\u001b[39m\u001b[38;5;241m.\u001b[39m_clear_buffer()\n",
      "\u001b[1;31mKeyboardInterrupt\u001b[0m: "
     ]
    }
   ],
   "source": [
    "run_folder = create_folder_path(track_name=track_name)\n",
    "\n",
    "# Time in milisseconds\n",
    "save_position_every = 10\n",
    "save_state_every = 5_000\n",
    "\n",
    "state = interface.get_simulation_state()\n",
    "# Wait for the user to move to start saving data\n",
    "print(\"Waiting for player to move\")\n",
    "while state.race_time >= 0:\n",
    "    state = interface.get_simulation_state()\n",
    "\n",
    "interface.execute_command(\"warp 0\")\n",
    "state = interface.get_simulation_state()\n",
    "\n",
    "# Setup initial position and state just after the player starts to move\n",
    "positions = [{\n",
    "    'time': None,\n",
    "    'position': state.dyna.current_state.position\n",
    "}]\n",
    "pickle.dump(state, open(os.path.join(run_folder, f\"state_{0:05d}.pkl\"), \"wb\"))\n",
    "n_saved_states = 1\n",
    "\n",
    "positions[0]['time'] = state.time\n",
    "\n",
    "print(\"Start to record data\")\n",
    "\n",
    "start_time = state.time\n",
    "\n",
    "while True:\n",
    "    \n",
    "    state = interface.get_simulation_state()\n",
    "    \n",
    "    if (state.time - start_time) / save_position_every > len(positions):\n",
    "        positions.append({\n",
    "            'time': state.time,\n",
    "            'position': state.dyna.current_state.position\n",
    "        })\n",
    "        \n",
    "    if (state.time - start_time) / save_state_every > n_saved_states:\n",
    "        pickle.dump(state, open(os.path.join(run_folder, f\"state_{n_saved_states:05d}.pkl\"), \"wb\"))\n",
    "        n_saved_states += 1\n",
    "\n",
    "    time.sleep(.1)\n",
    "\n",
    "    if keyboard.is_pressed(\"q\"):\n",
    "        print(\"Keybord Interrupt\")\n",
    "        break\n",
    "\n",
    "    if state.player_info.race_finished :\n",
    "        print(\"Race Finished\")\n",
    "        break\n",
    "        \n",
    "pickle.dump(positions, open(os.path.join(run_folder, \"positions.pkl\"), \"wb\"))"
   ]
  },
  {
   "cell_type": "markdown",
   "metadata": {},
   "source": [
    "## Rewind the game to a specific state"
   ]
  },
  {
   "cell_type": "code",
   "execution_count": 33,
   "metadata": {},
   "outputs": [
    {
     "name": "stdout",
     "output_type": "stream",
     "text": [
      "state_00000.pkl\n",
      "state_00001.pkl\n",
      "state_00002.pkl\n",
      "state_00003.pkl\n",
      "state_00004.pkl\n",
      "state_00006.pkl\n",
      "state_00008.pkl\n",
      "state_00009.pkl\n",
      "state_00011.pkl\n",
      "state_00012.pkl\n",
      "state_00014.pkl\n",
      "state_00015.pkl\n"
     ]
    }
   ],
   "source": [
    "run_folder = \"track_data/Training_dataset_flat_tech/run-2\"\n",
    "state_files = list(filter(lambda x: x.startswith(\"state\"), os.listdir(run_folder)))\n",
    "# random.shuffle(state_files)\n",
    "\n",
    "\n",
    "for state_file in state_files :\n",
    "    state = pickle.load(open(os.path.join(run_folder, state_file), \"rb\"))\n",
    "    print(state_file)\n",
    "    state.dyna.current_state.linear_speed = np.array([0, 0, 0])\n",
    "    interface.rewind_to_state(state)\n",
    "    time.sleep(1)\n",
    "\n",
    "# for k in range(3):\n",
    "#     state_file = state_files[8]\n",
    "#     print(state_file)\n",
    "#     state = pickle.load(open(os.path.join(run_folder, state_file), \"rb\"))\n",
    "#     state.dyna.current_state.linear_speed = np.array([0, 0, 0])\n",
    "#     interface.rewind_to_state(state)\n",
    "#     time.sleep(1)"
   ]
  },
  {
   "cell_type": "markdown",
   "metadata": {},
   "source": [
    "## Load positions"
   ]
  },
  {
   "cell_type": "code",
   "execution_count": 18,
   "metadata": {},
   "outputs": [
    {
     "name": "stdout",
     "output_type": "stream",
     "text": [
      "[{'time': 10, 'position': [ArrayFieldProxy object at 0x25fe4c7b6b0]\n",
      "Data: [820.7999877929688 10.210000038146973 592.0]}, {'time': 2600, 'position': [ArrayFieldProxy object at 0x25fe4d55af0]\n",
      "Data: [820.7999877929688 10.210000038146973 592.0]}, {'time': 2720, 'position': [ArrayFieldProxy object at 0x25fe4d55f70]\n",
      "Data: [820.7144165039062 10.05434799194336 592.0]}, {'time': 2820, 'position': [ArrayFieldProxy object at 0x25fe4d55ca0]\n",
      "Data: [820.4713134765625 10.006918907165527 592.0006713867188]}, {'time': 2920, 'position': [ArrayFieldProxy object at 0x25fe4d55910]\n",
      "Data: [820.0684814453125 10.008275985717773 592.000732421875]}, {'time': 3030, 'position': [ArrayFieldProxy object at 0x25fe4d55940]\n",
      "Data: [819.441650390625 10.010725021362305 592.000732421875]}, {'time': 3130, 'position': [ArrayFieldProxy object at 0x25fe4d55a30]\n",
      "Data: [818.7066650390625 10.011608123779297 592.000732421875]}, {'time': 3230, 'position': [ArrayFieldProxy object at 0x25fe4d55ac0]\n",
      "Data: [817.8150024414062 10.010478019714355 592.000732421875]}, {'time': 3340, 'position': [ArrayFieldProxy object at 0x25fe4d559d0]\n",
      "Data: [816.6549072265625 10.00076675415039 592.000732421875]}, {'time': 3440, 'position': [ArrayFieldProxy object at 0x25fe4d55e50]\n",
      "Data: [815.4410400390625 9.967120170593262 592.000732421875]}, {'time': 3540, 'position': [ArrayFieldProxy object at 0x25fe4d549b0]\n",
      "Data: [814.0631713867188 9.917941093444824 592.000732421875]}, {'time': 3640, 'position': [ArrayFieldProxy object at 0x25fe4d54b00]\n",
      "Data: [812.4961547851562 9.841710090637207 592.000732421875]}, {'time': 3750, 'position': [ArrayFieldProxy object at 0x25fe4d54bc0]\n",
      "Data: [810.55126953125 9.706367492675781 592.0006713867188]}, {'time': 3850, 'position': [ArrayFieldProxy object at 0x25fe4d54980]\n",
      "Data: [808.60009765625 9.613194465637207 592.0006713867188]}, {'time': 3950, 'position': [ArrayFieldProxy object at 0x25fe4d54d40]\n",
      "Data: [806.4866333007812 9.4881591796875 592.0006713867188]}, {'time': 4050, 'position': [ArrayFieldProxy object at 0x25fe4d548f0]\n",
      "Data: [804.1968994140625 9.414353370666504 592.0006713867188]}, {'time': 4150, 'position': [ArrayFieldProxy object at 0x25fe4d54770]\n",
      "Data: [801.7164916992188 9.363701820373535 592.0005493164062]}, {'time': 4250, 'position': [ArrayFieldProxy object at 0x25fe4d54c80]\n",
      "Data: [799.1028442382812 9.353643417358398 592.0010986328125]}, {'time': 4360, 'position': [ArrayFieldProxy object at 0x25fe4d54dd0]\n",
      "Data: [796.0496826171875 9.35326862335205 592.0010375976562]}, {'time': 4460, 'position': [ArrayFieldProxy object at 0x25fe4d54d70]\n",
      "Data: [793.212158203125 9.35484790802002 592.0010375976562]}, {'time': 4560, 'position': [ArrayFieldProxy object at 0x25fe4d54ec0]\n",
      "Data: [790.3726806640625 9.357230186462402 592.000732421875]}, {'time': 4660, 'position': [ArrayFieldProxy object at 0x25fe4d54f20]\n",
      "Data: [787.5252075195312 9.360014915466309 592.000732421875]}, {'time': 4760, 'position': [ArrayFieldProxy object at 0x25fe4d54bf0]\n",
      "Data: [784.5908813476562 9.360840797424316 592.0008544921875]}, {'time': 4870, 'position': [ArrayFieldProxy object at 0x25fe4d54fe0]\n",
      "Data: [781.2367553710938 9.36351203918457 592.0008544921875]}, {'time': 4970, 'position': [ArrayFieldProxy object at 0x25fe4d55010]\n",
      "Data: [778.0743408203125 9.365495681762695 592.0008544921875]}, {'time': 5070, 'position': [ArrayFieldProxy object at 0x25fe4d55250]\n",
      "Data: [774.8019409179688 9.364331245422363 592.0008544921875]}, {'time': 5280, 'position': [ArrayFieldProxy object at 0x25fe4d550d0]\n",
      "Data: [767.5711059570312 9.362168312072754 592.0008544921875]}, {'time': 5490, 'position': [ArrayFieldProxy object at 0x25fe4d54fb0]\n",
      "Data: [759.861083984375 9.364517211914062 592.0008544921875]}, {'time': 5690, 'position': [ArrayFieldProxy object at 0x25fe4d56db0]\n",
      "Data: [752.0704345703125 9.362567901611328 592.0008544921875]}, {'time': 5890, 'position': [ArrayFieldProxy object at 0x25fe4d55130]\n",
      "Data: [743.84326171875 9.363767623901367 592.0008544921875]}, {'time': 6100, 'position': [ArrayFieldProxy object at 0x25fe4d57080]\n",
      "Data: [734.7350463867188 9.36330795288086 592.0008544921875]}, {'time': 6300, 'position': [ArrayFieldProxy object at 0x25fe4d56e70]\n",
      "Data: [725.733642578125 9.363913536071777 592.0008544921875]}, {'time': 6510, 'position': [ArrayFieldProxy object at 0x25fe4d553d0]\n",
      "Data: [716.1002197265625 9.363123893737793 592.0008544921875]}, {'time': 6620, 'position': [ArrayFieldProxy object at 0x25fe4d56f90]\n",
      "Data: [710.865478515625 9.363039016723633 592.0008544921875]}, {'time': 6920, 'position': [ArrayFieldProxy object at 0x25fe4d56fc0]\n",
      "Data: [695.9242553710938 9.363058090209961 592.0008544921875]}, {'time': 7020, 'position': [ArrayFieldProxy object at 0x25fe4d56f60]\n",
      "Data: [690.72314453125 9.362627029418945 592.0008544921875]}, {'time': 7230, 'position': [ArrayFieldProxy object at 0x25fe4d57290]\n",
      "Data: [679.4487915039062 9.36401653289795 592.0008544921875]}, {'time': 7430, 'position': [ArrayFieldProxy object at 0x25fe4d57170]\n",
      "Data: [668.287109375 9.363179206848145 592.0008544921875]}, {'time': 7640, 'position': [ArrayFieldProxy object at 0x25fe4d57320]\n",
      "Data: [656.25048828125 9.3637113571167 592.0008544921875]}, {'time': 7840, 'position': [ArrayFieldProxy object at 0x25fe4d57200]\n",
      "Data: [644.502197265625 9.36359691619873 592.0008544921875]}, {'time': 8040, 'position': [ArrayFieldProxy object at 0x25fe4d574d0]\n",
      "Data: [632.4755249023438 9.365213394165039 592.0008544921875]}, {'time': 8250, 'position': [ArrayFieldProxy object at 0x25fe4d57500]\n",
      "Data: [619.5479736328125 9.365669250488281 592.0008544921875]}, {'time': 8450, 'position': [ArrayFieldProxy object at 0x25fe4d57380]\n",
      "Data: [606.9512329101562 9.364563941955566 592.0008544921875]}, {'time': 8660, 'position': [ArrayFieldProxy object at 0x25fe4d57530]\n",
      "Data: [593.4256591796875 9.365694999694824 592.0008544921875]}, {'time': 8860, 'position': [ArrayFieldProxy object at 0x25fe4d577a0]\n",
      "Data: [580.3588256835938 9.365506172180176 592.0008544921875]}, {'time': 9060, 'position': [ArrayFieldProxy object at 0x25fe4d575f0]\n",
      "Data: [567.2129516601562 9.365114212036133 592.0008544921875]}, {'time': 9270, 'position': [ArrayFieldProxy object at 0x25fe4d576e0]\n",
      "Data: [553.1222534179688 9.365269660949707 592.0008544921875]}, {'time': 9480, 'position': [ArrayFieldProxy object at 0x25fe4d57860]\n",
      "Data: [539.419189453125 9.365212440490723 592.0008544921875]}, {'time': 9680, 'position': [ArrayFieldProxy object at 0x25fe4d57770]\n",
      "Data: [524.7312622070312 9.365118980407715 592.0008544921875]}, {'time': 9880, 'position': [ArrayFieldProxy object at 0x25fe4d578f0]\n",
      "Data: [510.45855712890625 9.365345001220703 592.0008544921875]}, {'time': 10090, 'position': [ArrayFieldProxy object at 0x25fe4d57950]\n",
      "Data: [495.1728515625 9.365044593811035 592.0008544921875]}, {'time': 10290, 'position': [ArrayFieldProxy object at 0x25fe4d57a70]\n",
      "Data: [480.3304138183594 9.365320205688477 592.0008544921875]}, {'time': 10500, 'position': [ArrayFieldProxy object at 0x25fe4d57b30]\n",
      "Data: [464.4468078613281 9.365117073059082 592.0008544921875]}, {'time': 10700, 'position': [ArrayFieldProxy object at 0x25fe4d57b90]\n",
      "Data: [449.0347595214844 9.365222930908203 592.0008544921875]}, {'time': 10900, 'position': [ArrayFieldProxy object at 0x25fe4d57a40]\n",
      "Data: [433.3449401855469 9.365216255187988 592.0008544921875]}, {'time': 11110, 'position': [ArrayFieldProxy object at 0x25fe4d57d10]\n",
      "Data: [416.57159423828125 9.3651704788208 592.0008544921875]}, {'time': 11310, 'position': [ArrayFieldProxy object at 0x25fe4d57c20]\n",
      "Data: [400.3122863769531 9.36522388458252 592.0008544921875]}, {'time': 11510, 'position': [ArrayFieldProxy object at 0x25fe4d57dd0]\n",
      "Data: [383.7751159667969 9.365180969238281 592.0008544921875]}, {'time': 11620, 'position': [ArrayFieldProxy object at 0x25fe4d55e80]\n",
      "Data: [374.5612487792969 9.365180969238281 592.0008544921875]}, {'time': 11820, 'position': [ArrayFieldProxy object at 0x25fe4d55d30]\n",
      "Data: [357.59344482421875 9.365200996398926 592.0008544921875]}, {'time': 12020, 'position': [ArrayFieldProxy object at 0x25fe4d55df0]\n",
      "Data: [340.347900390625 9.365200996398926 592.0008544921875]}, {'time': 12230, 'position': [ArrayFieldProxy object at 0x25fe4d56150]\n",
      "Data: [321.9410095214844 9.365199089050293 592.0008544921875]}, {'time': 12440, 'position': [ArrayFieldProxy object at 0x25fe4d560f0]\n",
      "Data: [303.2278137207031 9.36519718170166 592.0008544921875]}, {'time': 12640, 'position': [ArrayFieldProxy object at 0x25fe4d56180]\n",
      "Data: [285.1204528808594 9.366393089294434 592.0008544921875]}]\n"
     ]
    }
   ],
   "source": [
    "run_folder = \"track_data/Straight_Line/run-2\"\n",
    "positions = pickle.load(open(os.path.join(run_folder, \"positions.pkl\"), \"rb\"))\n",
    "print(positions)"
   ]
  },
  {
   "cell_type": "code",
   "execution_count": 24,
   "metadata": {},
   "outputs": [
    {
     "data": {
      "text/plain": [
       "[1012.8001708984375, 10.013981819152832, 624.001220703125]"
      ]
     },
     "execution_count": 24,
     "metadata": {},
     "output_type": "execute_result"
    }
   ],
   "source": [
    "list(state.dyna.current_state.position.to_numpy())"
   ]
  },
  {
   "cell_type": "markdown",
   "metadata": {},
   "source": [
    "# Alternative Checkpoint Saving\n",
    "You have to run the map, \n",
    "restart at each checkpoint without making inputs, \n",
    "and press \"p\" for picture, which saves the current state of the game"
   ]
  },
  {
   "cell_type": "code",
   "execution_count": 9,
   "metadata": {},
   "outputs": [
    {
     "name": "stdout",
     "output_type": "stream",
     "text": [
      "Start to record data\n",
      "Recorded state: state_00000.pkl\n",
      "Recorded state: state_00001.pkl\n",
      "Recorded state: state_00002.pkl\n",
      "Recorded state: state_00003.pkl\n",
      "Recorded state: state_00004.pkl\n",
      "Recorded state: state_00005.pkl\n",
      "Recorded state: state_00006.pkl\n",
      "Recorded state: state_00007.pkl\n",
      "Recorded state: state_00008.pkl\n",
      "Recorded state: state_00009.pkl\n",
      "Recorded state: state_00010.pkl\n",
      "Recorded state: state_00011.pkl\n",
      "Recorded state: state_00012.pkl\n",
      "Recorded state: state_00013.pkl\n",
      "Recorded state: state_00014.pkl\n",
      "Recorded state: state_00015.pkl\n",
      "Stop recording\n"
     ]
    }
   ],
   "source": [
    "run_folder = create_folder_path(track_name=track_name)\n",
    "\n",
    "n_saved_states = 0\n",
    "\n",
    "print(\"Start to record data\")\n",
    "\n",
    "while True:\n",
    "    \n",
    "    state = interface.get_simulation_state()\n",
    "\n",
    "    if keyboard.is_pressed(\"p\"):\n",
    "\n",
    "        pickle.dump(state, open(os.path.join(run_folder, f\"state_{n_saved_states:05d}.pkl\"), \"wb\"))\n",
    "        print(\"Recorded state:\", f\"state_{n_saved_states:05d}.pkl\")\n",
    "        n_saved_states += 1\n",
    "    \n",
    "    time.sleep(.1)\n",
    "\n",
    "    if keyboard.is_pressed(\"q\"):\n",
    "        print(\"Stop recording\")\n",
    "        break"
   ]
  },
  {
   "cell_type": "markdown",
   "metadata": {},
   "source": [
    "# Testing"
   ]
  },
  {
   "cell_type": "code",
   "execution_count": 11,
   "metadata": {},
   "outputs": [
    {
     "data": {
      "text/plain": [
       "False"
      ]
     },
     "execution_count": 11,
     "metadata": {},
     "output_type": "execute_result"
    }
   ],
   "source": []
  }
 ],
 "metadata": {
  "kernelspec": {
   "display_name": "Python 3 (ipykernel)",
   "language": "python",
   "name": "python3"
  },
  "language_info": {
   "codemirror_mode": {
    "name": "ipython",
    "version": 3
   },
   "file_extension": ".py",
   "mimetype": "text/x-python",
   "name": "python",
   "nbconvert_exporter": "python",
   "pygments_lexer": "ipython3",
   "version": "3.12.2"
  }
 },
 "nbformat": 4,
 "nbformat_minor": 4
}
