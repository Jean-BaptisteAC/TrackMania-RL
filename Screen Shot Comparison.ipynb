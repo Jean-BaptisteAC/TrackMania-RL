{
 "cells": [
  {
   "cell_type": "code",
   "execution_count": 95,
   "id": "d163b659-25d2-4012-ba2b-8e6eedfdd1c1",
   "metadata": {},
   "outputs": [
    {
     "data": {
      "text/plain": [
       "True"
      ]
     },
     "execution_count": 95,
     "metadata": {},
     "output_type": "execute_result"
    }
   ],
   "source": [
    "from dotenv import load_dotenv\n",
    "import cv2\n",
    "import numpy as np\n",
    "import win32.win32gui as wind32\n",
    "from mss import mss\n",
    "import os\n",
    "import keyboard\n",
    "import matplotlib.pyplot as plt\n",
    "from torch.nn.functional import normalize\n",
    "import torch \n",
    "\n",
    "load_dotenv()"
   ]
  },
  {
   "cell_type": "markdown",
   "id": "8ab1f7d2-9ac3-47c0-928c-de452f44630c",
   "metadata": {},
   "source": [
    "# Image Vision Class"
   ]
  },
  {
   "cell_type": "code",
   "execution_count": 87,
   "id": "297bae49-7622-44ad-ab16-5861b5937a84",
   "metadata": {},
   "outputs": [],
   "source": [
    "class Image_Vision():\n",
    "    def __init__(self, dimension_reduction = 6, name=\"frame\"):\n",
    "        self.hwnd = wind32.FindWindow(None, os.getenv('GAME_WINDOW_NAME'))\n",
    "\n",
    "        # Crop the screenshot to remove unecessary information and reduce dimensionality\n",
    "        self.lateral_margin = 10 + 2\n",
    "        self.upper_margin = 40 + 220\n",
    "        self.lower_margin = 10 + 0\n",
    "\n",
    "        self.name = name\n",
    "\n",
    "        self.dimension_reduction = dimension_reduction\n",
    "            \n",
    "        self.get_frame()\n",
    "        self.is_running = True\n",
    "\n",
    "    def get_frame(self):\n",
    "        \n",
    "        left, top, right, bottom = wind32.GetWindowRect(self.hwnd)\n",
    "\n",
    "        left = left + self.lateral_margin\n",
    "        right = right - self.lateral_margin\n",
    "        top = top + self.upper_margin\n",
    "        bottom = bottom - self.lower_margin\n",
    "\n",
    "        bounding_box = left, top, right, bottom\n",
    "        with mss() as sct:\n",
    "            frame = np.array(sct.grab(bounding_box)) \n",
    "        frame = cv2.cvtColor(frame, cv2.COLOR_BGR2GRAY)\n",
    "        dim = (int(frame.shape[1]/self.dimension_reduction),\n",
    "               int(frame.shape[0]/self.dimension_reduction))\n",
    "    \n",
    "\n",
    "        if dim[0] % 2 == 1:\n",
    "            dim = (dim[0] + 1, dim[1])\n",
    "        \n",
    "        frame = cv2.resize(frame, dim, interpolation = cv2.INTER_NEAREST)\n",
    "        self.frame = frame\n",
    "    \n",
    "\n",
    "    def show(self):\n",
    "        frame = self.frame\n",
    "        \n",
    "        dim = (int(frame.shape[1]*self.dimension_reduction),\n",
    "               int(frame.shape[0]*self.dimension_reduction))\n",
    "        cv2.imshow(self.name, cv2.resize(frame, dim, interpolation = cv2.INTER_NEAREST))\n",
    "\n",
    "        \n",
    "        if (cv2.waitKey(1) & 0xFF) == ord(\"q\"):\n",
    "            cv2.destroyAllWindows()\n",
    "            self.is_running = False\n",
    "\n",
    "            \n",
    "    def get_obs(self):\n",
    "        self.get_frame()\n",
    "        # Image in shape (H, W, 1) pixels value in [0, 255] because SB3 automatically scales the features for images\n",
    "        observation = np.reshape(np.array(self.frame), \n",
    "                                 (self.frame.shape[0],self.frame.shape[1] , 1))\n",
    "    \n",
    "        return observation\n"
   ]
  },
  {
   "cell_type": "code",
   "execution_count": 109,
   "id": "40a346f8-0517-4f9c-8427-6cb9ee95e34c",
   "metadata": {},
   "outputs": [],
   "source": [
    "def normalize(tab):\n",
    "    mean, std = tab.mean(), tab.std()\n",
    "    return (tab - mean)/std"
   ]
  },
  {
   "cell_type": "code",
   "execution_count": 110,
   "id": "0851e4d1-cc52-4b7a-afdf-659d26c8f628",
   "metadata": {},
   "outputs": [
    {
     "name": "stdout",
     "output_type": "stream",
     "text": [
      "Interrupt\n"
     ]
    }
   ],
   "source": [
    "viewer = Image_Vision(name=\"BASIC\")\n",
    "\n",
    "while True:\n",
    "    viewer.show()\n",
    "    \n",
    "    try:\n",
    "        if keyboard.is_pressed(\"q\"):\n",
    "            print(\"Interrupt\")\n",
    "            break\n",
    "    except:\n",
    "        pass"
   ]
  },
  {
   "cell_type": "markdown",
   "id": "a4a698aa-b4c3-4012-9b47-6d4fe691fcf0",
   "metadata": {},
   "source": [
    "# Analysis of pixels values"
   ]
  },
  {
   "cell_type": "code",
   "execution_count": 114,
   "id": "38a4d38f-e645-49ae-ab44-0ae26b57c79e",
   "metadata": {},
   "outputs": [
    {
     "data": {
      "image/png": "[encoded data removed]",
      "text/plain": [
       "<Figure size 640x480 with 1 Axes>"
      ]
     },
     "metadata": {},
     "output_type": "display_data"
    }
   ],
   "source": [
    "viewer = Image_Vision(name=\"BASIC\")\n",
    "obs = viewer.get_obs()\n",
    "\n",
    "name_to_write = \"dirt_day\"\n",
    "cv2.imwrite(f\"screenshots/{name_to_write}.png\", obs)\n",
    "obs = cv2.imread(f\"screenshots/{name_to_write}.png\")\n",
    "obs = cv2.cvtColor(obs, cv2.COLOR_BGR2GRAY) \n",
    "values = obs.flatten()\n",
    "values = normalize(values)\n",
    "plt.hist(values, bins= 100)\n",
    "plt.title(f\"Lights settings: {name_to_write}\")\n",
    "# plt.xlim([0, 255])\n",
    "plt.show()"
   ]
  },
  {
   "cell_type": "code",
   "execution_count": 115,
   "id": "03fb6c21-5d1e-49fe-9dd5-b23bafd0c7ef",
   "metadata": {},
   "outputs": [
    {
     "data": {
      "image/png": "[encoded data removed]",
      "text/plain": [
       "<Figure size 640x480 with 1 Axes>"
      ]
     },
     "metadata": {},
     "output_type": "display_data"
    }
   ],
   "source": [
    "viewer = Image_Vision(name=\"BASIC\")\n",
    "obs = viewer.get_obs()\n",
    "\n",
    "name_to_write = \"dirt_night\"\n",
    "cv2.imwrite(f\"screenshots/{name_to_write}.png\", obs)\n",
    "obs = cv2.imread(f\"screenshots/{name_to_write}.png\")\n",
    "obs = cv2.cvtColor(obs, cv2.COLOR_BGR2GRAY)\n",
    "values = obs.flatten()\n",
    "values = normalize(values)\n",
    "plt.hist(values, bins= 100)\n",
    "plt.title(f\"Lights settings: {name_to_write}\")\n",
    "# plt.xlim([0, 255])\n",
    "plt.show()"
   ]
  },
  {
   "cell_type": "markdown",
   "id": "04ab5906-1686-4ff7-af70-1190bd2432ab",
   "metadata": {},
   "source": [
    "# Testing"
   ]
  },
  {
   "cell_type": "code",
   "execution_count": 107,
   "id": "c81b0b29-b9ea-4615-a78d-d138a5215eb7",
   "metadata": {},
   "outputs": [
    {
     "name": "stdout",
     "output_type": "stream",
     "text": [
      "97.03863432165319 34.79416871763536\n"
     ]
    }
   ],
   "source": [
    "obs = cv2.imread(f\"screenshots/{name_to_write}.png\")\n",
    "obs = cv2.cvtColor(obs, cv2.COLOR_BGR2GRAY) \n",
    "obs_flatten = obs.flatten()\n",
    "mean, std = obs_flatten.mean(), obs_flatten.std()\n",
    "print(mean, std)"
   ]
  },
  {
   "cell_type": "code",
   "execution_count": null,
   "id": "5a973177-42f1-4b70-aff8-0dc858ce84e5",
   "metadata": {},
   "outputs": [],
   "source": [
    "z"
   ]
  }
 ],
 "metadata": {
  "kernelspec": {
   "display_name": "Python 3 (ipykernel)",
   "language": "python",
   "name": "python3"
  },
  "language_info": {
   "codemirror_mode": {
    "name": "ipython",
    "version": 3
   },
   "file_extension": ".py",
   "mimetype": "text/x-python",
   "name": "python",
   "nbconvert_exporter": "python",
   "pygments_lexer": "ipython3",
   "version": "3.12.2"
  }
 },
 "nbformat": 4,
 "nbformat_minor": 5
}
