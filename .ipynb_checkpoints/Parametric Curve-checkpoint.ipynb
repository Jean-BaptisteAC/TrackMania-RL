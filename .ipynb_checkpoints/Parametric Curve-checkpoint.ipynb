{
 "cells": [
  {
   "cell_type": "code",
   "execution_count": 47,
   "id": "fa5e300e",
   "metadata": {},
   "outputs": [],
   "source": [
    "import numpy as np\n",
    "import pandas as pd\n",
    "\n",
    "from scipy.interpolate import interp1d\n",
    "from scipy.signal import argrelmin\n",
    "\n",
    "from sklearn.preprocessing import normalize\n",
    "import matplotlib.pyplot as plt\n",
    "\n",
    "import os\n",
    "import pickle"
   ]
  },
  {
   "cell_type": "markdown",
   "id": "6189013d-ce96-42e4-be29-f42fcd90c74d",
   "metadata": {},
   "source": [
    "# Load Positions"
   ]
  },
  {
   "cell_type": "code",
   "execution_count": 102,
   "id": "bb04d31f-6df0-4b6f-94bb-dc0251d67a29",
   "metadata": {},
   "outputs": [
    {
     "name": "stdout",
     "output_type": "stream",
     "text": [
      "finish_time:  20.32\n",
      "[[820.79998779  10.21000004 592.        ]\n",
      " [820.80998779  10.22000004 592.01      ]\n",
      " [820.79998779  10.20897516 592.        ]\n",
      " ...\n",
      " [290.19837068   9.35898927 591.99957275]\n",
      " [289.91828541   9.35899361 591.99957275]\n",
      " [289.63812855   9.35899712 591.99957275]]\n"
     ]
    }
   ],
   "source": [
    "run_folder = \"track_data/Straight_Line/run-1\"\n",
    "positions = pickle.load(open(os.path.join(run_folder, \"positions.pkl\"), \"rb\"))\n",
    "finish_time = positions[-1][\"time\"]/1000\n",
    "\n",
    "raw_points = [list(pos['position'].to_numpy()) for pos in positions]\n",
    "df = pd.DataFrame(raw_points)\n",
    "ema = df.ewm(com=40).mean()\n",
    "raw_points = ema.values.tolist()\n",
    "    \n",
    "# remove duplicates:\n",
    "points = [raw_points[0]]\n",
    "for point in raw_points[1:]:\n",
    "    if point != points[-1]:\n",
    "        points.append(point)\n",
    "    else:\n",
    "        for i in range(len(point)):\n",
    "            point[i] += 0.01\n",
    "        points.append(point)\n",
    "points = np.array(points)\n",
    "print(\"finish_time: \", finish_time)\n",
    "print(points)"
   ]
  },
  {
   "cell_type": "markdown",
   "id": "c7be2e63",
   "metadata": {},
   "source": [
    "# Parametric Curve"
   ]
  },
  {
   "cell_type": "code",
   "execution_count": 3,
   "id": "f91c6f2e",
   "metadata": {},
   "outputs": [
    {
     "data": {
      "image/png": "[encoded data removed]",
      "text/plain": [
       "<Figure size 700x700 with 1 Axes>"
      ]
     },
     "metadata": {},
     "output_type": "display_data"
    }
   ],
   "source": [
    "# Time along the track:\n",
    "time = np.linspace(0, 1, len(points))\n",
    "\n",
    "# Interpolation for different methods:\n",
    "interpolations_methods = ['slinear']\n",
    "alpha = np.linspace(0, 1, len(points)*100)\n",
    "\n",
    "interpolated_points = {}\n",
    "for method in interpolations_methods:\n",
    "    interpolator =  interp1d(time, points, kind=method, axis=0)\n",
    "    interpolated_points[method] = interpolator(alpha)\n",
    "\n",
    "# Graph:\n",
    "plt.figure(figsize=(7,7))\n",
    "for method_name, curve in interpolated_points.items():\n",
    "    plt.plot(*curve[:, [0, 2]].T, '-', label=method_name);"
   ]
  },
  {
   "cell_type": "code",
   "execution_count": 4,
   "id": "6cd47b85",
   "metadata": {},
   "outputs": [
    {
     "data": {
      "text/plain": [
       "203300"
      ]
     },
     "execution_count": 4,
     "metadata": {},
     "output_type": "execute_result"
    }
   ],
   "source": [
    "interpolator =  interp1d(time, points, kind='slinear', axis=0)\n",
    "alpha = np.linspace(0, 1, len(points)*100)\n",
    "curve = interpolator(alpha)\n",
    "len(alpha)"
   ]
  },
  {
   "cell_type": "code",
   "execution_count": 5,
   "id": "096ab48e-a380-40d3-86a8-a8ad33a988db",
   "metadata": {},
   "outputs": [
    {
     "data": {
      "text/plain": [
       "array([[278.45731365,   9.35914019, 591.99957275],\n",
       "       [278.45448482,   9.3591399 , 591.99957275],\n",
       "       [278.451656  ,   9.3591396 , 591.99957275],\n",
       "       [278.44882718,   9.35913931, 591.99957275],\n",
       "       [278.44599836,   9.35913901, 591.99957275],\n",
       "       [278.44316954,   9.35913872, 591.99957275],\n",
       "       [278.44034071,   9.35913842, 591.99957275],\n",
       "       [278.43751189,   9.35913813, 591.99957275],\n",
       "       [278.43468307,   9.35913783, 591.99957275]])"
      ]
     },
     "execution_count": 5,
     "metadata": {},
     "output_type": "execute_result"
    }
   ],
   "source": [
    "curve[-10:-1]"
   ]
  },
  {
   "cell_type": "markdown",
   "id": "436bd6d0",
   "metadata": {},
   "source": [
    "# Closest Point"
   ]
  },
  {
   "cell_type": "code",
   "execution_count": 6,
   "id": "8c4474d4",
   "metadata": {},
   "outputs": [],
   "source": [
    "def distance_3D(x, y, z, x0, y0, z0):\n",
    "    d_x = x - x0\n",
    "    d_y = y - y0\n",
    "    d_z = z - z0\n",
    "    dis = np.sqrt( d_x**2 + d_y**2 + d_z**2)\n",
    "    return dis"
   ]
  },
  {
   "cell_type": "code",
   "execution_count": 13,
   "id": "02945e45",
   "metadata": {},
   "outputs": [
    {
     "data": {
      "text/plain": [
       "array([[820.79998779,  10.21000004, 592.        ],\n",
       "       [820.80008774,  10.21009999, 592.00009995],\n",
       "       [820.8001877 ,  10.21019994, 592.0001999 ],\n",
       "       ...,\n",
       "       [278.43751189,   9.35913813, 591.99957275],\n",
       "       [278.43468307,   9.35913783, 591.99957275],\n",
       "       [278.43185425,   9.35913754, 591.99957275]])"
      ]
     },
     "execution_count": 13,
     "metadata": {},
     "output_type": "execute_result"
    }
   ],
   "source": [
    "alpha = np.linspace(0, 1, len(points)*100)\n",
    "coords = interpolator(alpha)\n",
    "x = coords[:,0]\n",
    "y = coords[:,1]\n",
    "z = coords[:,2]\n",
    "coords"
   ]
  },
  {
   "cell_type": "code",
   "execution_count": 16,
   "id": "9709daa1",
   "metadata": {},
   "outputs": [
    {
     "name": "stdout",
     "output_type": "stream",
     "text": [
      "20.31970014609024\n",
      "203296\n"
     ]
    }
   ],
   "source": [
    "# The point P\n",
    "P = [278.44034071,   9.35913842, 591.99957275]\n",
    "\n",
    "# compute distance\n",
    "dis = distance_3D(x, y, z, P[0], P[1], P[2])\n",
    "# find the minima\n",
    "glob_min_idx = np.argmin(dis)\n",
    "# distance\n",
    "min_d = dis[glob_min_idx]\n",
    "\n",
    "associated_time = alpha[glob_min_idx]*finish_time\n",
    "print(associated_time)\n",
    "print(glob_min_idx)"
   ]
  },
  {
   "cell_type": "code",
   "execution_count": 17,
   "id": "98753582",
   "metadata": {
    "scrolled": true
   },
   "outputs": [
    {
     "data": {
      "text/plain": [
       "array([278.44034071,   9.35913842, 591.99957275])"
      ]
     },
     "execution_count": 17,
     "metadata": {},
     "output_type": "execute_result"
    }
   ],
   "source": [
    "interpolator(alpha[glob_min_idx])"
   ]
  },
  {
   "cell_type": "code",
   "execution_count": 18,
   "id": "5f97ee3d",
   "metadata": {},
   "outputs": [
    {
     "data": {
      "text/plain": [
       "0.9999852434099528"
      ]
     },
     "execution_count": 18,
     "metadata": {},
     "output_type": "execute_result"
    }
   ],
   "source": [
    "alpha[glob_min_idx]"
   ]
  },
  {
   "cell_type": "code",
   "execution_count": 19,
   "id": "843c28e5-59b6-46a6-bc2b-6b3134535ec5",
   "metadata": {},
   "outputs": [
    {
     "data": {
      "text/plain": [
       "5.800840488355166e-09"
      ]
     },
     "execution_count": 19,
     "metadata": {},
     "output_type": "execute_result"
    }
   ],
   "source": [
    "min_d"
   ]
  },
  {
   "cell_type": "code",
   "execution_count": 20,
   "id": "e509ed76-cec5-4439-a9ab-3c5820f441d3",
   "metadata": {},
   "outputs": [
    {
     "data": {
      "text/plain": [
       "20.31970014609024"
      ]
     },
     "execution_count": 20,
     "metadata": {},
     "output_type": "execute_result"
    }
   ],
   "source": [
    "associated_time"
   ]
  },
  {
   "cell_type": "code",
   "execution_count": 15,
   "id": "fb28c059-fa97-4ac7-b8c1-d1359dae6f70",
   "metadata": {},
   "outputs": [
    {
     "data": {
      "text/plain": [
       "20.31970014609024"
      ]
     },
     "execution_count": 15,
     "metadata": {},
     "output_type": "execute_result"
    }
   ],
   "source": [
    "alpha[glob_min_idx]*finish_time"
   ]
  },
  {
   "cell_type": "code",
   "execution_count": 58,
   "id": "681a3a21",
   "metadata": {},
   "outputs": [
    {
     "data": {
      "image/png": "[encoded data removed]",
      "text/plain": [
       "<Figure size 700x700 with 1 Axes>"
      ]
     },
     "metadata": {},
     "output_type": "display_data"
    }
   ],
   "source": [
    "fig, ax = plt.subplots(figsize=(7, 7))\n",
    "\n",
    "ax.plot(x, z, lw=2)\n",
    "ax.plot(\n",
    "    [P[0], min_x],\n",
    "    [P[2], min_z],\n",
    "    'k--', lw=1,\n",
    "    label=f'distance {min_d:.2f}'\n",
    ")\n",
    "\n",
    "display_P = (P[0], P[2])\n",
    "ax.plot(*display_P, 'or')\n",
    "ax.text(\n",
    "    P[0], P[2], \n",
    "    f\"  P ({P[0]}, {P[2]})\", \n",
    "    ha='left', va='center',\n",
    "    fontsize=15\n",
    ")\n",
    "ax.legend()\n",
    "plt.show()"
   ]
  },
  {
   "cell_type": "markdown",
   "id": "18cbcc4e-9c2c-48f8-bf2b-bb488c875cbc",
   "metadata": {},
   "source": [
    "# Double Precision"
   ]
  },
  {
   "cell_type": "code",
   "execution_count": 22,
   "id": "1b6ea7e2-8e9a-4bab-b00c-410290e2a6c9",
   "metadata": {},
   "outputs": [
    {
     "data": {
      "text/plain": [
       "array([[278.44316954,   9.35913872, 591.99957275],\n",
       "       [278.44316387,   9.35913872, 591.99957275],\n",
       "       [278.44315821,   9.35913872, 591.99957275],\n",
       "       ...,\n",
       "       [278.43752322,   9.35913813, 591.99957275],\n",
       "       [278.43751756,   9.35913813, 591.99957275],\n",
       "       [278.43751189,   9.35913813, 591.99957275]])"
      ]
     },
     "execution_count": 22,
     "metadata": {},
     "output_type": "execute_result"
    }
   ],
   "source": [
    "lower = alpha[glob_min_idx - 1]\n",
    "higher = alpha[glob_min_idx + 1]\n",
    "\n",
    "alpha2 = np.linspace(lower, higher, 1_000)\n",
    "coords2 = interpolator(alpha2)\n",
    "x = coords2[:,0]\n",
    "y = coords2[:,1]\n",
    "z = coords2[:,2]\n",
    "coords2"
   ]
  },
  {
   "cell_type": "code",
   "execution_count": 24,
   "id": "6515ec4e-aa12-4045-b3ef-4e58b98d7621",
   "metadata": {},
   "outputs": [
    {
     "name": "stdout",
     "output_type": "stream",
     "text": [
      "20.319700246141597\n",
      "500\n"
     ]
    }
   ],
   "source": [
    "# The point P\n",
    "P = [278.44034071,   9.35913842, 591.99957275]\n",
    "\n",
    "# compute distance\n",
    "dis = distance_3D(x, y, z, P[0], P[1], P[2])\n",
    "# find the minima\n",
    "glob_min_idx = np.argmin(dis)\n",
    "# distance\n",
    "min_d = dis[glob_min_idx]\n",
    "\n",
    "associated_time = alpha2[glob_min_idx]*finish_time\n",
    "print(associated_time)\n",
    "print(glob_min_idx)"
   ]
  },
  {
   "cell_type": "code",
   "execution_count": 26,
   "id": "eb3f30ef-7750-4650-bab9-7fe68558ca5c",
   "metadata": {},
   "outputs": [
    {
     "data": {
      "text/plain": [
       "1000"
      ]
     },
     "execution_count": 26,
     "metadata": {},
     "output_type": "execute_result"
    }
   ],
   "source": [
    "a = "
   ]
  },
  {
   "cell_type": "markdown",
   "id": "cd5d1d6f-7598-431f-bfc1-f81880e98777",
   "metadata": {},
   "source": [
    "# Smoothing"
   ]
  },
  {
   "cell_type": "code",
   "execution_count": 83,
   "id": "596cb138-ac1b-4d5b-89c7-9d0d9c23e15f",
   "metadata": {},
   "outputs": [
    {
     "data": {
      "text/plain": [
       "[<matplotlib.lines.Line2D at 0x1f9f461b4a0>]"
      ]
     },
     "execution_count": 83,
     "metadata": {},
     "output_type": "execute_result"
    },
    {
     "data": {
      "image/png": "[encoded data removed]",
      "text/plain": [
       "<Figure size 640x480 with 1 Axes>"
      ]
     },
     "metadata": {},
     "output_type": "display_data"
    }
   ],
   "source": [
    "diff = np.diff(points[:, 0])\n",
    "plt.plot(diff)"
   ]
  },
  {
   "cell_type": "code",
   "execution_count": 86,
   "id": "3f2380a8-a929-47c7-965e-c2bafc95fd97",
   "metadata": {},
   "outputs": [
    {
     "data": {
      "text/plain": [
       "[<matplotlib.lines.Line2D at 0x1f9f5708050>]"
      ]
     },
     "execution_count": 86,
     "metadata": {},
     "output_type": "execute_result"
    },
    {
     "data": {
      "image/png": "[encoded data removed]",
      "text/plain": [
       "<Figure size 640x480 with 1 Axes>"
      ]
     },
     "metadata": {},
     "output_type": "display_data"
    }
   ],
   "source": [
    "df = pd.DataFrame(points)\n",
    "ema = df.ewm(com=40).mean()\n",
    "diff = np.diff(ema[0])\n",
    "plt.plot(diff)"
   ]
  },
  {
   "cell_type": "code",
   "execution_count": 100,
   "id": "0a454066-251c-466d-b489-528e79a08e63",
   "metadata": {},
   "outputs": [
    {
     "data": {
      "text/plain": [
       "array([[820.79998779,  10.21000004, 592.        ],\n",
       "       [820.79998779,  10.21000004, 592.        ],\n",
       "       [820.79998779,  10.20897516, 592.        ],\n",
       "       ...,\n",
       "       [290.19837068,   9.35898927, 591.99957275],\n",
       "       [289.91828541,   9.35899361, 591.99957275],\n",
       "       [289.63812855,   9.35899712, 591.99957275]])"
      ]
     },
     "execution_count": 100,
     "metadata": {},
     "output_type": "execute_result"
    }
   ],
   "source": [
    "pd.DataFrame(raw_points).values"
   ]
  }
 ],
 "metadata": {
  "kernelspec": {
   "display_name": "Python 3 (ipykernel)",
   "language": "python",
   "name": "python3"
  },
  "language_info": {
   "codemirror_mode": {
    "name": "ipython",
    "version": 3
   },
   "file_extension": ".py",
   "mimetype": "text/x-python",
   "name": "python",
   "nbconvert_exporter": "python",
   "pygments_lexer": "ipython3",
   "version": "3.12.2"
  }
 },
 "nbformat": 4,
 "nbformat_minor": 5
}
