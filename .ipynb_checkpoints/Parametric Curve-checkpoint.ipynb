{
 "cells": [
  {
   "cell_type": "code",
   "execution_count": 1,
   "id": "fa5e300e",
   "metadata": {},
   "outputs": [],
   "source": [
    "import numpy as np\n",
    "import pandas as pd\n",
    "\n",
    "from scipy.interpolate import interp1d\n",
    "from scipy.signal import argrelmin\n",
    "\n",
    "from sklearn.preprocessing import normalize\n",
    "import matplotlib.pyplot as plt\n",
    "\n",
    "import os\n",
    "import pickle"
   ]
  },
  {
   "cell_type": "markdown",
   "id": "6189013d-ce96-42e4-be29-f42fcd90c74d",
   "metadata": {},
   "source": [
    "# Load Positions"
   ]
  },
  {
   "cell_type": "code",
   "execution_count": 2,
   "id": "bb04d31f-6df0-4b6f-94bb-dc0251d67a29",
   "metadata": {},
   "outputs": [
    {
     "name": "stdout",
     "output_type": "stream",
     "text": [
      "finish_time:  20.32\n",
      "[[820.79998779  10.21000004 592.        ]\n",
      " [820.80998779  10.22000004 592.01      ]\n",
      " [820.79998779  10.20897516 592.        ]\n",
      " ...\n",
      " [290.19837068   9.35898927 591.99957275]\n",
      " [289.91828541   9.35899361 591.99957275]\n",
      " [289.63812855   9.35899712 591.99957275]]\n"
     ]
    }
   ],
   "source": [
    "run_folder = \"track_data/Straight_Line/run-1\"\n",
    "positions = pickle.load(open(os.path.join(run_folder, \"positions.pkl\"), \"rb\"))\n",
    "finish_time = positions[-1][\"time\"]/1000\n",
    "\n",
    "raw_points = [list(pos['position'].to_numpy()) for pos in positions]\n",
    "df = pd.DataFrame(raw_points)\n",
    "ema = df.ewm(com=40).mean()\n",
    "raw_points = ema.values.tolist()\n",
    "    \n",
    "# remove duplicates:\n",
    "points = [raw_points[0]]\n",
    "for point in raw_points[1:]:\n",
    "    if point != points[-1]:\n",
    "        points.append(point)\n",
    "    else:\n",
    "        for i in range(len(point)):\n",
    "            point[i] += 0.01\n",
    "        points.append(point)\n",
    "points = np.array(points)\n",
    "print(\"finish_time: \", finish_time)\n",
    "print(points)"
   ]
  },
  {
   "cell_type": "markdown",
   "id": "c7be2e63",
   "metadata": {},
   "source": [
    "# Parametric Curve"
   ]
  },
  {
   "cell_type": "code",
   "execution_count": 3,
   "id": "f91c6f2e",
   "metadata": {},
   "outputs": [
    {
     "data": {
      "image/png": "[encoded data removed]",
      "text/plain": [
       "<Figure size 700x700 with 1 Axes>"
      ]
     },
     "metadata": {},
     "output_type": "display_data"
    }
   ],
   "source": [
    "# Time along the track:\n",
    "time = np.linspace(0, 1, len(points))\n",
    "\n",
    "# Interpolation for different methods:\n",
    "interpolations_methods = ['slinear']\n",
    "alpha = np.linspace(0, 1, len(points)*100)\n",
    "\n",
    "interpolated_points = {}\n",
    "for method in interpolations_methods:\n",
    "    interpolator =  interp1d(time, points, kind=method, axis=0)\n",
    "    interpolated_points[method] = interpolator(alpha)\n",
    "\n",
    "# Graph:\n",
    "plt.figure(figsize=(7,7))\n",
    "for method_name, curve in interpolated_points.items():\n",
    "    plt.plot(*curve[:, [0, 2]].T, '-', label=method_name);"
   ]
  },
  {
   "cell_type": "code",
   "execution_count": 21,
   "id": "6cd47b85",
   "metadata": {},
   "outputs": [],
   "source": [
    "time_interpolator = interp1d(time, points, kind='slinear', axis=0)\n",
    "\n",
    "distance = np.cumsum(np.sqrt(np.sum( np.diff(points, axis=0)**2, axis=1)))\n",
    "distance = np.insert(distance, 0, 0)/distance[-1]\n",
    "percentage_interpolator = interp1d(distance, points, kind='slinear', axis=0)"
   ]
  },
  {
   "cell_type": "markdown",
   "id": "436bd6d0",
   "metadata": {},
   "source": [
    "# Closest Point"
   ]
  },
  {
   "cell_type": "code",
   "execution_count": 22,
   "id": "8c4474d4",
   "metadata": {},
   "outputs": [],
   "source": [
    "def distance_3D(x, y, z, x0, y0, z0):\n",
    "    d_x = x - x0\n",
    "    d_y = y - y0\n",
    "    d_z = z - z0\n",
    "    dis = np.sqrt( d_x**2 + d_y**2 + d_z**2)\n",
    "    return dis"
   ]
  },
  {
   "cell_type": "markdown",
   "id": "514c7f8d-9d62-41fc-89d8-95deb79dd1cc",
   "metadata": {},
   "source": [
    "## Time progress"
   ]
  },
  {
   "cell_type": "code",
   "execution_count": 53,
   "id": "02945e45",
   "metadata": {},
   "outputs": [
    {
     "data": {
      "text/plain": [
       "array([[820.79998779,  10.21000004, 592.        ],\n",
       "       [820.80008774,  10.21009999, 592.00009995],\n",
       "       [820.8001877 ,  10.21019994, 592.0001999 ],\n",
       "       ...,\n",
       "       [289.64372896,   9.35899705, 591.99957275],\n",
       "       [289.64092875,   9.35899708, 591.99957275],\n",
       "       [289.63812855,   9.35899712, 591.99957275]])"
      ]
     },
     "execution_count": 53,
     "metadata": {},
     "output_type": "execute_result"
    }
   ],
   "source": [
    "alpha = np.linspace(0, 1, len(points)*100)\n",
    "coords = time_interpolator(alpha)\n",
    "x = coords[:,0]\n",
    "y = coords[:,1]\n",
    "z = coords[:,2]\n",
    "coords"
   ]
  },
  {
   "cell_type": "code",
   "execution_count": 65,
   "id": "9709daa1",
   "metadata": {},
   "outputs": [
    {
     "name": "stdout",
     "output_type": "stream",
     "text": [
      "10.647712384222253\n",
      "106529\n"
     ]
    }
   ],
   "source": [
    "# The point P\n",
    "P = [559.09837068,   9.35898927,  591.99957275]\n",
    "\n",
    "# compute distance\n",
    "dis = distance_3D(x, y, z, P[0], P[1], P[2])\n",
    "# find the minima\n",
    "glob_min_idx = np.argmin(dis)\n",
    "# distance\n",
    "min_d = dis[glob_min_idx]\n",
    "\n",
    "associated_time = alpha[glob_min_idx]*finish_time\n",
    "print(associated_time)\n",
    "print(glob_min_idx)"
   ]
  },
  {
   "cell_type": "code",
   "execution_count": 67,
   "id": "d9fb4b94-e4de-4060-a281-78d2b61a32f1",
   "metadata": {},
   "outputs": [
    {
     "data": {
      "text/plain": [
       "0.5236220472440946"
      ]
     },
     "execution_count": 67,
     "metadata": {},
     "output_type": "execute_result"
    }
   ],
   "source": [
    "10.64/finish_time"
   ]
  },
  {
   "cell_type": "markdown",
   "id": "7d208f22-4ee9-4988-a33a-679cd6ed91d8",
   "metadata": {},
   "source": [
    "## Percentage Progress"
   ]
  },
  {
   "cell_type": "code",
   "execution_count": 68,
   "id": "df6a36ab-2abe-4f05-80fe-5763d6273475",
   "metadata": {},
   "outputs": [
    {
     "data": {
      "text/plain": [
       "array([[820.79998779,  10.21000004, 592.        ],\n",
       "       [820.8014966 ,  10.21150885, 592.00150881],\n",
       "       [820.80300542,  10.21301766, 592.00301762],\n",
       "       ...,\n",
       "       [289.64335523,   9.35899705, 591.99957275],\n",
       "       [289.64074189,   9.35899708, 591.99957275],\n",
       "       [289.63812855,   9.35899712, 591.99957275]])"
      ]
     },
     "execution_count": 68,
     "metadata": {},
     "output_type": "execute_result"
    }
   ],
   "source": [
    "alpha = np.linspace(0, 1, len(points)*100)\n",
    "coords = percentage_interpolator(alpha)\n",
    "x = coords[:,0]\n",
    "y = coords[:,1]\n",
    "z = coords[:,2]\n",
    "coords"
   ]
  },
  {
   "cell_type": "code",
   "execution_count": 69,
   "id": "cbf15105-f76a-495c-8689-e2cc4c1a098b",
   "metadata": {},
   "outputs": [
    {
     "name": "stdout",
     "output_type": "stream",
     "text": [
      "0.4928135759960649\n",
      "100189\n"
     ]
    }
   ],
   "source": [
    "# The point P\n",
    "P = [559.09837068,   9.35898927,  591.99957275]\n",
    "\n",
    "# compute distance\n",
    "dis = distance_3D(x, y, z, P[0], P[1], P[2])\n",
    "# find the minima\n",
    "glob_min_idx = np.argmin(dis)\n",
    "# distance\n",
    "min_d = dis[glob_min_idx]\n",
    "\n",
    "associated_progress = glob_min_idx/len(alpha)\n",
    "\n",
    "print(associated_progress)\n",
    "print(glob_min_idx)"
   ]
  },
  {
   "cell_type": "code",
   "execution_count": 35,
   "id": "a88d0976-e148-4924-b2a0-538acdf8b2ef",
   "metadata": {},
   "outputs": [
    {
     "data": {
      "text/plain": [
       "0.00034432043443401097"
      ]
     },
     "execution_count": 35,
     "metadata": {},
     "output_type": "execute_result"
    }
   ],
   "source": [
    "alpha[glob_min_idx]"
   ]
  }
 ],
 "metadata": {
  "kernelspec": {
   "display_name": "Python 3 (ipykernel)",
   "language": "python",
   "name": "python3"
  },
  "language_info": {
   "codemirror_mode": {
    "name": "ipython",
    "version": 3
   },
   "file_extension": ".py",
   "mimetype": "text/x-python",
   "name": "python",
   "nbconvert_exporter": "python",
   "pygments_lexer": "ipython3",
   "version": "3.12.2"
  }
 },
 "nbformat": 4,
 "nbformat_minor": 5
}
