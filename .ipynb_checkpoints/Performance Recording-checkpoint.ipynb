{
 "cells": [
  {
   "cell_type": "code",
   "execution_count": 1,
   "id": "9a5bf78e-5d3b-4730-96f1-1097abf1af2b",
   "metadata": {},
   "outputs": [],
   "source": [
    "from src.environment.TMNFEnv import TrackmaniaEnv\n",
    "from stable_baselines3 import PPO\n",
    "import keyboard\n",
    "import pandas as pd"
   ]
  },
  {
   "cell_type": "markdown",
   "id": "933b8767-39b9-4437-a58a-4ef03e5f330f",
   "metadata": {},
   "source": [
    "# Main Loop for capturing agent information"
   ]
  },
  {
   "cell_type": "code",
   "execution_count": 6,
   "id": "cdcce545-fe80-4a87-840c-c074e93a50de",
   "metadata": {},
   "outputs": [
    {
     "name": "stdout",
     "output_type": "stream",
     "text": [
      "Registered to TMInterface0\n",
      "Wrapping the env with a `Monitor` wrapper\n",
      "Wrapping the env in a DummyVecEnv.\n",
      "Wrapping the env in a VecTransposeImage.\n",
      "{'checkpoint_time': False, 'total_distance': False, 'percentage_progress': False}\n",
      "{'checkpoint_time': False, 'total_distance': 0.0, 'percentage_progress': 0.0}\n",
      "{'checkpoint_time': False, 'total_distance': 0.0, 'percentage_progress': 0.0}\n",
      "{'checkpoint_time': False, 'total_distance': 1395.5365866511709, 'percentage_progress': 0.7480569948186528}\n",
      "{'checkpoint_time': False, 'total_distance': 1053.061465124243, 'percentage_progress': 0.5599093264248705}\n",
      "{'checkpoint_time': False, 'total_distance': 399.3034878726115, 'percentage_progress': 0.22538860103626943}\n",
      "{'checkpoint_time': False, 'total_distance': 26.078407196391332, 'percentage_progress': 0.009715025906735751}\n",
      "{'checkpoint_time': 49.08, 'total_distance': 1858.1477687223198, 'percentage_progress': 0.9996761658031088}\n",
      "{'checkpoint_time': 50.49, 'total_distance': 1858.53015450234, 'percentage_progress': 0.9996761658031088}\n",
      "{'checkpoint_time': False, 'total_distance': False, 'percentage_progress': False}\n",
      "{'checkpoint_time': False, 'total_distance': 1353.0831432616312, 'percentage_progress': 0.0003238341968911917}\n",
      "{'checkpoint_time': False, 'total_distance': 1362.000800790398, 'percentage_progress': 0.7227979274611399}\n",
      "{'checkpoint_time': False, 'total_distance': False, 'percentage_progress': False}\n",
      "Interrupt\n"
     ]
    }
   ],
   "source": [
    "testing_track = \"B02\"\n",
    "\n",
    "env = TrackmaniaEnv(observation_space=\"image\", \n",
    "                        dimension_reduction=6,\n",
    "                        training_track=testing_track,\n",
    "                        training_mode=\"time_optimization\", \n",
    "                        render_mode=None,\n",
    "                        action_mode=None)\n",
    "\n",
    "model_type = \"PPO\"\n",
    "models_dir = \"models/\" + model_type\n",
    "model_watch_name = \"PPO_Train_Dataset_Tech\"\n",
    "model_step = \"1497k\"\n",
    "\n",
    "model_path = f\"{models_dir}/{model_watch_name}/{model_step}\"\n",
    "model_to_watch = PPO.load(model_path, env=env)\n",
    "obs, _ = env.reset()\n",
    "\n",
    "episode_count = 0\n",
    "N_episodes = 55\n",
    "\n",
    "checkpoint_time = []\n",
    "total_distance = []\n",
    "percentage_progress = []\n",
    "\n",
    "while episode_count < N_episodes:\n",
    "    \n",
    "    action, _ = model_to_watch.predict(obs)\n",
    "    obs, reward, done, _, info = env.step(action)\n",
    "\n",
    "    # if info[\"checkpoint_time\"] is not False:\n",
    "    #     print(\"Finish time:\", info[\"checkpoint_time\"])\n",
    "\n",
    "    if done:\n",
    "        print(info)\n",
    "        episode_count += 1\n",
    "\n",
    "        checkpoint_time.append(info[\"checkpoint_time\"])\n",
    "        total_distance.append(info[\"total_distance\"])\n",
    "        percentage_progress.append(info[\"percentage_progress\"])\n",
    "\n",
    "    try:\n",
    "        if keyboard.is_pressed(\"q\"):\n",
    "            print(\"Interrupt\")\n",
    "            break\n",
    "    except:\n",
    "        pass\n",
    "\n",
    "env.close()"
   ]
  },
  {
   "cell_type": "markdown",
   "id": "753c3429-62a4-4bd7-9f84-481410948052",
   "metadata": {},
   "source": [
    "# Display Pandas File"
   ]
  },
  {
   "cell_type": "code",
   "execution_count": 14,
   "id": "ee8c6ba8-8020-4e7a-a5ee-690caca8fed4",
   "metadata": {},
   "outputs": [
    {
     "data": {
      "text/html": [
       "<div>\n",
       "<style scoped>\n",
       "    .dataframe tbody tr th:only-of-type {\n",
       "        vertical-align: middle;\n",
       "    }\n",
       "\n",
       "    .dataframe tbody tr th {\n",
       "        vertical-align: top;\n",
       "    }\n",
       "\n",
       "    .dataframe thead th {\n",
       "        text-align: right;\n",
       "    }\n",
       "</style>\n",
       "<table border=\"1\" class=\"dataframe\">\n",
       "  <thead>\n",
       "    <tr style=\"text-align: right;\">\n",
       "      <th></th>\n",
       "      <th>checkpoint_time</th>\n",
       "      <th>total_distance</th>\n",
       "      <th>percentage_progress</th>\n",
       "    </tr>\n",
       "  </thead>\n",
       "  <tbody>\n",
       "    <tr>\n",
       "      <th>3</th>\n",
       "      <td>False</td>\n",
       "      <td>1395.536587</td>\n",
       "      <td>0.748057</td>\n",
       "    </tr>\n",
       "    <tr>\n",
       "      <th>4</th>\n",
       "      <td>False</td>\n",
       "      <td>1053.061465</td>\n",
       "      <td>0.559909</td>\n",
       "    </tr>\n",
       "    <tr>\n",
       "      <th>5</th>\n",
       "      <td>False</td>\n",
       "      <td>399.303488</td>\n",
       "      <td>0.225389</td>\n",
       "    </tr>\n",
       "    <tr>\n",
       "      <th>6</th>\n",
       "      <td>False</td>\n",
       "      <td>26.078407</td>\n",
       "      <td>0.009715</td>\n",
       "    </tr>\n",
       "    <tr>\n",
       "      <th>7</th>\n",
       "      <td>49.08</td>\n",
       "      <td>1858.147769</td>\n",
       "      <td>0.999676</td>\n",
       "    </tr>\n",
       "    <tr>\n",
       "      <th>8</th>\n",
       "      <td>50.49</td>\n",
       "      <td>1858.530155</td>\n",
       "      <td>0.999676</td>\n",
       "    </tr>\n",
       "    <tr>\n",
       "      <th>9</th>\n",
       "      <td>False</td>\n",
       "      <td>False</td>\n",
       "      <td>False</td>\n",
       "    </tr>\n",
       "    <tr>\n",
       "      <th>10</th>\n",
       "      <td>False</td>\n",
       "      <td>1353.083143</td>\n",
       "      <td>0.000324</td>\n",
       "    </tr>\n",
       "    <tr>\n",
       "      <th>11</th>\n",
       "      <td>False</td>\n",
       "      <td>1362.000801</td>\n",
       "      <td>0.722798</td>\n",
       "    </tr>\n",
       "    <tr>\n",
       "      <th>12</th>\n",
       "      <td>False</td>\n",
       "      <td>False</td>\n",
       "      <td>False</td>\n",
       "    </tr>\n",
       "  </tbody>\n",
       "</table>\n",
       "</div>"
      ],
      "text/plain": [
       "   checkpoint_time total_distance percentage_progress\n",
       "3            False    1395.536587            0.748057\n",
       "4            False    1053.061465            0.559909\n",
       "5            False     399.303488            0.225389\n",
       "6            False      26.078407            0.009715\n",
       "7            49.08    1858.147769            0.999676\n",
       "8            50.49    1858.530155            0.999676\n",
       "9            False          False               False\n",
       "10           False    1353.083143            0.000324\n",
       "11           False    1362.000801            0.722798\n",
       "12           False          False               False"
      ]
     },
     "execution_count": 14,
     "metadata": {},
     "output_type": "execute_result"
    }
   ],
   "source": [
    "recording_df = pd.DataFrame({'checkpoint_time': checkpoint_time,\n",
    "                             'total_distance': total_distance, \n",
    "                             'percentage_progress': percentage_progress})\n",
    "recording_df = recording_df.iloc[3:, :]\n",
    "recording_df"
   ]
  },
  {
   "cell_type": "markdown",
   "id": "7daeb238-5232-4f0b-9794-187f27653394",
   "metadata": {},
   "source": [
    "# Record CSV File"
   ]
  },
  {
   "cell_type": "code",
   "execution_count": null,
   "id": "119e6f34-787a-47b7-b140-e823738ef0c5",
   "metadata": {},
   "outputs": [],
   "source": [
    "file_name = f\"{testing_track}_{model_watch_name}_{model_step}_.csv\"\n",
    "recording_df.to_csv(f\"records/{file_name}\")"
   ]
  }
 ],
 "metadata": {
  "kernelspec": {
   "display_name": "Python 3 (ipykernel)",
   "language": "python",
   "name": "python3"
  },
  "language_info": {
   "codemirror_mode": {
    "name": "ipython",
    "version": 3
   },
   "file_extension": ".py",
   "mimetype": "text/x-python",
   "name": "python",
   "nbconvert_exporter": "python",
   "pygments_lexer": "ipython3",
   "version": "3.12.2"
  }
 },
 "nbformat": 4,
 "nbformat_minor": 5
}
