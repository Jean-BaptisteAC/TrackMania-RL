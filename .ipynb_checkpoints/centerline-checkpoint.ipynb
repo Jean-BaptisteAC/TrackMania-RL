{
 "cells": [
  {
   "cell_type": "markdown",
   "metadata": {},
   "source": [
    "<h2>Centerline</h2>\n",
    "\n",
    "In this project, we use a centerline during the training phase to help the agent to avoid walls and to follow the track.\n",
    "\n",
    "One way of defining such a trajectory is to make a human play the track safetly and save car's data at regular timesteps.\n",
    "\n",
    "We also use states of the game to rewind the car at a random positions on the track."
   ]
  },
  {
   "cell_type": "code",
   "execution_count": 1,
   "metadata": {},
   "outputs": [],
   "source": [
    "import os\n",
    "import time\n",
    "import pickle\n",
    "import keyboard\n",
    "import numpy as np\n",
    "import random\n",
    "\n",
    "import tminterface as tmi\n",
    "from tminterface.interface import TMInterface, Client"
   ]
  },
  {
   "cell_type": "code",
   "execution_count": 2,
   "metadata": {},
   "outputs": [],
   "source": [
    "# HELPERS \n",
    "\n",
    "# Dynamic state of the car. Position, rotation, speed, etc...\n",
    "#print(state.dyna.current_state)\n",
    "\n",
    "# Data about wheels (index 1 out of 4). Contact with the ground, sliding...\n",
    "#print(state.simulation_wheels[0])\n",
    "\n",
    "# Time in milisseconds\n",
    "#print(state.time / 1000 / 60)"
   ]
  },
  {
   "cell_type": "code",
   "execution_count": 3,
   "metadata": {},
   "outputs": [],
   "source": [
    "TRACK_DATA_PATH = \"track_data/\"\n",
    "track_name = \"Training_Dataset_Tech\"\n",
    "\n",
    "def create_folder_path(track_name):\n",
    "    \n",
    "    track_folder = os.path.join(TRACK_DATA_PATH, track_name)\n",
    "    \n",
    "    if os.path.exists(track_folder):\n",
    "        n_run = len(os.listdir(track_folder))\n",
    "    else:\n",
    "        os.makedirs(track_folder)\n",
    "        n_run = 0\n",
    "    \n",
    "    run_folder = os.path.join(track_folder, 'run-%s' % (n_run + 1))\n",
    "    \n",
    "    os.makedirs(run_folder)\n",
    "    \n",
    "    return run_folder"
   ]
  },
  {
   "cell_type": "code",
   "execution_count": 4,
   "metadata": {},
   "outputs": [],
   "source": [
    "class CustomClient(Client):\n",
    "\n",
    "    def __init__(self):\n",
    "        super().__init__()\n",
    "        self.sim_state = None\n",
    "        self.finished = False\n",
    "        self.positions = []\n",
    "        self.start_state = None\n",
    "        self.init = False\n",
    "        \n",
    "    def on_registered(self, iface: TMInterface) -> None:\n",
    "        iface.execute_command(\"press delete\")\n",
    "        print(f'Registered to {iface.server_name}')\n",
    "        self.sim_state = iface.get_simulation_state()\n",
    "\n",
    "    def on_run_step(self, iface, _time: int):\n",
    "\n",
    "        if _time < 0:\n",
    "            self.init = True\n",
    "\n",
    "        if _time == 0:\n",
    "            self.start_state = iface.get_simulation_state()\n",
    "\n",
    "        if _time >= 0 and self.init and (not self.finished):\n",
    "            self.sim_state = iface.get_simulation_state()\n",
    "            position = {\n",
    "                'time': _time,\n",
    "                'position': self.sim_state.dyna.current_state.position\n",
    "                }\n",
    "            self.positions.append(position)\n",
    "\n",
    "    def on_checkpoint_count_changed(self, iface, current: int, target: int):\n",
    "\n",
    "        if current >= 1:\n",
    "            if current == target:\n",
    "                self.finished = True"
   ]
  },
  {
   "cell_type": "markdown",
   "metadata": {},
   "source": [
    "## Main Loop used to capture game data"
   ]
  },
  {
   "cell_type": "code",
   "execution_count": 6,
   "metadata": {},
   "outputs": [
    {
     "name": "stdout",
     "output_type": "stream",
     "text": [
      "Start to record data\n",
      "Registered to TMInterface0\n",
      "Write positions in folder\n"
     ]
    }
   ],
   "source": [
    "run_folder = create_folder_path(track_name=track_name)\n",
    "\n",
    "# Instantiate the Interface\n",
    "# The client is used to connect the interface to the TMI server\n",
    "# The interface runs itself in a separate thread\n",
    "\n",
    "interface = TMInterface()\n",
    "client = CustomClient()\n",
    "\n",
    "interface.register(client)\n",
    "\n",
    "print(\"Start to record data\")\n",
    "\n",
    "while client.finished is False:\n",
    "    time.sleep(0)\n",
    "\n",
    "    if keyboard.is_pressed(\"q\"):\n",
    "        print(\"Keybord Interrupt\")\n",
    "        break\n",
    "\n",
    "print(\"Write positions in folder\")\n",
    "pickle.dump(client.positions, open(os.path.join(run_folder, \"positions.pkl\"), \"wb\"))\n",
    "\n",
    "n_saved_states = 0\n",
    "pickle.dump(client.start_state, open(os.path.join(run_folder, f\"state_{n_saved_states:05d}.pkl\"), \"wb\"))\n",
    "interface.close()"
   ]
  },
  {
   "cell_type": "markdown",
   "metadata": {},
   "source": [
    "## Rewind the game to a specific state"
   ]
  },
  {
   "cell_type": "code",
   "execution_count": 8,
   "metadata": {},
   "outputs": [
    {
     "name": "stdout",
     "output_type": "stream",
     "text": [
      "state_00000.pkl\n",
      "state_00001.pkl\n",
      "state_00002.pkl\n",
      "state_00003.pkl\n",
      "state_00004.pkl\n",
      "state_00005.pkl\n",
      "state_00006.pkl\n",
      "state_00007.pkl\n",
      "state_00008.pkl\n",
      "state_00009.pkl\n",
      "state_00010.pkl\n",
      "state_00011.pkl\n",
      "state_00012.pkl\n",
      "state_00013.pkl\n",
      "state_00014.pkl\n",
      "state_00015.pkl\n",
      "state_00016.pkl\n",
      "state_00017.pkl\n",
      "state_00018.pkl\n",
      "state_00019.pkl\n",
      "state_00020.pkl\n",
      "state_00021.pkl\n",
      "state_00022.pkl\n",
      "state_00023.pkl\n",
      "state_00024.pkl\n",
      "state_00025.pkl\n",
      "state_00026.pkl\n",
      "state_00027.pkl\n",
      "state_00028.pkl\n",
      "state_00029.pkl\n",
      "state_00030.pkl\n",
      "state_00031.pkl\n",
      "state_00032.pkl\n",
      "state_00033.pkl\n",
      "state_00034.pkl\n",
      "state_00035.pkl\n",
      "state_00036.pkl\n",
      "state_00037.pkl\n",
      "state_00038.pkl\n",
      "state_00039.pkl\n"
     ]
    }
   ],
   "source": [
    "run_folder = \"track_data/Training_Dataset_Tech/run-1\"\n",
    "state_files = list(filter(lambda x: x.startswith(\"state\"), os.listdir(run_folder)))\n",
    "\n",
    "for state_file in state_files :\n",
    "    state = pickle.load(open(os.path.join(run_folder, state_file), \"rb\"))\n",
    "    print(state_file)\n",
    "    interface.rewind_to_state(state)\n",
    "    time.sleep(1)"
   ]
  },
  {
   "cell_type": "markdown",
   "metadata": {},
   "source": [
    "## Load positions"
   ]
  },
  {
   "cell_type": "code",
   "execution_count": 13,
   "metadata": {},
   "outputs": [
    {
     "name": "stdout",
     "output_type": "stream",
     "text": [
      "35542\n"
     ]
    }
   ],
   "source": [
    "run_folder = \"track_data/Training_Dataset_Tech&Dirt_2/run-1\"\n",
    "positions = pickle.load(open(os.path.join(run_folder, \"positions.pkl\"), \"rb\"))\n",
    "print(len(positions))"
   ]
  },
  {
   "cell_type": "code",
   "execution_count": 24,
   "metadata": {},
   "outputs": [
    {
     "data": {
      "text/plain": [
       "[1012.8001708984375, 10.013981819152832, 624.001220703125]"
      ]
     },
     "execution_count": 24,
     "metadata": {},
     "output_type": "execute_result"
    }
   ],
   "source": [
    "list(state.dyna.current_state.position.to_numpy())"
   ]
  },
  {
   "cell_type": "markdown",
   "metadata": {},
   "source": [
    "# Alternative Checkpoint Saving\n",
    "You have to run the map, \n",
    "restart at each checkpoint without making inputs, \n",
    "and press \"p\" for picture, which saves the current state of the game"
   ]
  },
  {
   "cell_type": "code",
   "execution_count": 6,
   "metadata": {},
   "outputs": [
    {
     "name": "stdout",
     "output_type": "stream",
     "text": [
      "Start to record data\n",
      "Recorded state: state_00000.pkl\n",
      "Recorded state: state_00001.pkl\n",
      "Recorded state: state_00002.pkl\n",
      "Recorded state: state_00003.pkl\n",
      "Recorded state: state_00004.pkl\n",
      "Recorded state: state_00005.pkl\n",
      "Recorded state: state_00006.pkl\n",
      "Recorded state: state_00007.pkl\n",
      "Recorded state: state_00008.pkl\n",
      "Recorded state: state_00009.pkl\n",
      "Recorded state: state_00010.pkl\n",
      "Recorded state: state_00011.pkl\n",
      "Recorded state: state_00012.pkl\n",
      "Recorded state: state_00013.pkl\n",
      "Recorded state: state_00014.pkl\n",
      "Recorded state: state_00015.pkl\n",
      "Recorded state: state_00016.pkl\n",
      "Recorded state: state_00017.pkl\n",
      "Recorded state: state_00018.pkl\n",
      "Recorded state: state_00019.pkl\n",
      "Recorded state: state_00020.pkl\n",
      "Recorded state: state_00021.pkl\n",
      "Recorded state: state_00022.pkl\n",
      "Recorded state: state_00023.pkl\n",
      "Recorded state: state_00024.pkl\n",
      "Recorded state: state_00025.pkl\n",
      "Recorded state: state_00026.pkl\n",
      "Recorded state: state_00027.pkl\n",
      "Recorded state: state_00028.pkl\n",
      "Recorded state: state_00029.pkl\n",
      "Recorded state: state_00030.pkl\n",
      "Recorded state: state_00031.pkl\n",
      "Recorded state: state_00032.pkl\n",
      "Recorded state: state_00033.pkl\n",
      "Recorded state: state_00034.pkl\n",
      "Recorded state: state_00035.pkl\n",
      "Recorded state: state_00036.pkl\n",
      "Recorded state: state_00037.pkl\n",
      "Recorded state: state_00038.pkl\n",
      "Recorded state: state_00039.pkl\n",
      "Stop recording\n"
     ]
    }
   ],
   "source": [
    "run_folder = create_folder_path(track_name=track_name)\n",
    "\n",
    "n_saved_states = 0\n",
    "\n",
    "# interface = TMInterface()\n",
    "\n",
    "print(\"Start to record data\")\n",
    "last_screenshot_time = time.time()\n",
    "\n",
    "while True:\n",
    "    \n",
    "    state = interface.get_simulation_state()\n",
    "\n",
    "    delay = time.time() - last_screenshot_time\n",
    "\n",
    "    if keyboard.is_pressed(\"p\") and delay >= 1.0:\n",
    "\n",
    "        pickle.dump(state, open(os.path.join(run_folder, f\"state_{n_saved_states:05d}.pkl\"), \"wb\"))\n",
    "        print(\"Recorded state:\", f\"state_{n_saved_states:05d}.pkl\")\n",
    "        n_saved_states += 1\n",
    "\n",
    "        last_screenshot_time = time.time()\n",
    "\n",
    "    if keyboard.is_pressed(\"q\"):\n",
    "        print(\"Stop recording\")\n",
    "        break"
   ]
  },
  {
   "cell_type": "markdown",
   "metadata": {},
   "source": [
    "# Testing"
   ]
  },
  {
   "cell_type": "code",
   "execution_count": 65,
   "metadata": {},
   "outputs": [
    {
     "data": {
      "text/plain": [
       "1"
      ]
     },
     "execution_count": 65,
     "metadata": {},
     "output_type": "execute_result"
    }
   ],
   "source": [
    "import random\n",
    "\n",
    "a = [1, 2, 3]\n",
    "b = np.random.randint(len(a))\n",
    "\n",
    "a[b]"
   ]
  }
 ],
 "metadata": {
  "kernelspec": {
   "display_name": "Python 3 (ipykernel)",
   "language": "python",
   "name": "python3"
  },
  "language_info": {
   "codemirror_mode": {
    "name": "ipython",
    "version": 3
   },
   "file_extension": ".py",
   "mimetype": "text/x-python",
   "name": "python",
   "nbconvert_exporter": "python",
   "pygments_lexer": "ipython3",
   "version": "3.12.2"
  }
 },
 "nbformat": 4,
 "nbformat_minor": 4
}
