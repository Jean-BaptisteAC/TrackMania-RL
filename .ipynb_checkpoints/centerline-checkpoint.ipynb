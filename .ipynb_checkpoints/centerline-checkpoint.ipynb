{
 "cells": [
  {
   "cell_type": "markdown",
   "metadata": {},
   "source": [
    "<h2>Centerline</h2>\n",
    "\n",
    "In this project, we use a centerline during the training phase to help the agent to avoid walls and to follow the track.\n",
    "\n",
    "One way of defining such a trajectory is to make a human play the track safetly and save car's data at regular timesteps.\n",
    "\n",
    "We also use states of the game to rewind the car at a random positions on the track."
   ]
  },
  {
   "cell_type": "code",
   "execution_count": 1,
   "metadata": {},
   "outputs": [],
   "source": [
    "import os\n",
    "import time\n",
    "import pickle\n",
    "import keyboard\n",
    "import numpy as np\n",
    "import random\n",
    "\n",
    "import tminterface as tmi\n",
    "from tminterface.interface import TMInterface, Client"
   ]
  },
  {
   "cell_type": "code",
   "execution_count": 2,
   "metadata": {},
   "outputs": [
    {
     "data": {
      "text/plain": [
       "True"
      ]
     },
     "execution_count": 2,
     "metadata": {},
     "output_type": "execute_result"
    }
   ],
   "source": [
    "# Instantiate the Interface\n",
    "# The client is used to connect the interface to the TMI server\n",
    "# The interface runs itself in a separate thread\n",
    "\n",
    "interface = TMInterface()\n",
    "client = Client()\n",
    "\n",
    "interface.register(client)"
   ]
  },
  {
   "cell_type": "code",
   "execution_count": 3,
   "metadata": {},
   "outputs": [],
   "source": [
    "state = interface.get_simulation_state()"
   ]
  },
  {
   "cell_type": "code",
   "execution_count": 4,
   "metadata": {},
   "outputs": [],
   "source": [
    "# HELPERS \n",
    "\n",
    "# Dynamic state of the car. Position, rotation, speed, etc...\n",
    "#print(state.dyna.current_state)\n",
    "\n",
    "# Data about wheels (index 1 out of 4). Contact with the ground, sliding...\n",
    "#print(state.simulation_wheels[0])\n",
    "\n",
    "# Time in milisseconds\n",
    "#print(state.time / 1000 / 60)"
   ]
  },
  {
   "cell_type": "code",
   "execution_count": 8,
   "metadata": {},
   "outputs": [],
   "source": [
    "TRACK_DATA_PATH = \"track_data/\"\n",
    "track_name = \"Training_dataset_tech\"\n",
    "\n",
    "def create_folder_path(track_name):\n",
    "    \n",
    "    track_folder = os.path.join(TRACK_DATA_PATH, track_name)\n",
    "    \n",
    "    if os.path.exists(track_folder):\n",
    "        n_run = len(os.listdir(track_folder))\n",
    "    else:\n",
    "        os.makedirs(track_folder)\n",
    "        n_run = 0\n",
    "    \n",
    "    run_folder = os.path.join(track_folder, 'run-%s' % (n_run + 1))\n",
    "    \n",
    "    os.makedirs(run_folder)\n",
    "    \n",
    "    return run_folder"
   ]
  },
  {
   "cell_type": "code",
   "execution_count": 10,
   "metadata": {},
   "outputs": [
    {
     "name": "stdout",
     "output_type": "stream",
     "text": [
      "Waiting for player to move\n",
      "Start to record data\n",
      "Stop recording\n"
     ]
    }
   ],
   "source": [
    "\"\"\"\n",
    "    Main Loop used to capture game data\n",
    "\"\"\"\n",
    "\n",
    "run_folder = create_folder_path(track_name=track_name)\n",
    "\n",
    "# Time in milisseconds\n",
    "save_position_every = 100\n",
    "save_state_every = 5_000\n",
    "\n",
    "state = interface.get_simulation_state()\n",
    "\n",
    "# Setup initial position and state before player starts to move\n",
    "positions = [{\n",
    "    'time': None,\n",
    "    'position': state.dyna.current_state.position\n",
    "}]\n",
    "pickle.dump(state, open(os.path.join(run_folder, f\"state_{0:05d}.pkl\"), \"wb\"))\n",
    "n_saved_states = 1\n",
    "\n",
    "# Wait for the user to move to start saving data\n",
    "print(\"Waiting for player to move\")\n",
    "while np.linalg.norm(state.dyna.current_state.linear_speed) < 0.1:\n",
    "    state = interface.get_simulation_state()\n",
    "\n",
    "positions[0]['time'] = state.time\n",
    "\n",
    "print(\"Start to record data\")\n",
    "\n",
    "start_time = state.time\n",
    "\n",
    "while True:\n",
    "    time.sleep(.1)\n",
    "    \n",
    "    if keyboard.is_pressed(\"q\"):\n",
    "        print(\"Stop recording\")\n",
    "        break\n",
    "    \n",
    "    state = interface.get_simulation_state()\n",
    "    \n",
    "    if (state.time - start_time) / save_position_every > len(positions):\n",
    "        positions.append({\n",
    "            'time': state.time,\n",
    "            'position': state.dyna.current_state.position\n",
    "        })\n",
    "        \n",
    "    if (state.time - start_time) / save_state_every > n_saved_states:\n",
    "        pickle.dump(state, open(os.path.join(run_folder, f\"state_{n_saved_states:05d}.pkl\"), \"wb\"))\n",
    "        n_saved_states += 1\n",
    "pickle.dump(positions, open(os.path.join(run_folder, \"positions.pkl\"), \"wb\"))"
   ]
  },
  {
   "cell_type": "code",
   "execution_count": 18,
   "metadata": {},
   "outputs": [
    {
     "name": "stdout",
     "output_type": "stream",
     "text": [
      "['state_00000.pkl', 'state_00001.pkl', 'state_00002.pkl', 'state_00003.pkl', 'state_00004.pkl', 'state_00005.pkl', 'state_00006.pkl', 'state_00007.pkl', 'state_00008.pkl', 'state_00009.pkl', 'state_00010.pkl', 'state_00011.pkl']\n"
     ]
    }
   ],
   "source": [
    "\"\"\"\n",
    "    Rewind the game to a specific state\n",
    "\"\"\"\n",
    "run_folder = \"\\track_data\\Training_dataset_tech\\run-1\"\n",
    "state_files = list(filter(lambda x: x.startswith(\"state\"), os.listdir(run_folder)))\n",
    "# random.shuffle(state_files)\n",
    "\n",
    "print(state_files)\n",
    "\n",
    "# for state_file in state_files:\n",
    "#     state = pickle.load(open(os.path.join(run_folder, state_file), \"rb\"))\n",
    "#     interface.rewind_to_state(state)\n",
    "#     time.sleep(1)"
   ]
  },
  {
   "cell_type": "code",
   "execution_count": 117,
   "metadata": {},
   "outputs": [
    {
     "name": "stdout",
     "output_type": "stream",
     "text": [
      "{'time': 5090, 'position': [ArrayFieldProxy object at 0x2007ea3bfd0]\n",
      "Data: [980.8002319335938 9.356952667236328 656.001220703125]}\n"
     ]
    }
   ],
   "source": [
    "\"\"\"\n",
    "    Load positions\n",
    "\"\"\"\n",
    "\n",
    "positions = pickle.load(open(os.path.join(run_folder, \"positions.pkl\"), \"rb\"))\n",
    "print(positions[0])"
   ]
  }
 ],
 "metadata": {
  "kernelspec": {
   "display_name": "Python 3 (ipykernel)",
   "language": "python",
   "name": "python3"
  },
  "language_info": {
   "codemirror_mode": {
    "name": "ipython",
    "version": 3
   },
   "file_extension": ".py",
   "mimetype": "text/x-python",
   "name": "python",
   "nbconvert_exporter": "python",
   "pygments_lexer": "ipython3",
   "version": "3.12.2"
  }
 },
 "nbformat": 4,
 "nbformat_minor": 4
}
