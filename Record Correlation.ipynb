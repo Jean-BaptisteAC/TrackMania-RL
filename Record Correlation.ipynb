{
 "cells": [
  {
   "cell_type": "code",
   "execution_count": 10,
   "id": "9a5bf78e-5d3b-4730-96f1-1097abf1af2b",
   "metadata": {},
   "outputs": [],
   "source": [
    "from src.environment.TMNFEnv import TrackmaniaEnv\n",
    "import keyboard\n",
    "import pandas as pd\n",
    "import numpy as np\n",
    "import time\n",
    "import seaborn as sns\n",
    "import matplotlib.pyplot as plt"
   ]
  },
  {
   "cell_type": "markdown",
   "id": "933b8767-39b9-4437-a58a-4ef03e5f330f",
   "metadata": {},
   "source": [
    "# Main Loop for capturing agent information"
   ]
  },
  {
   "cell_type": "code",
   "execution_count": 2,
   "id": "cdcce545-fe80-4a87-840c-c074e93a50de",
   "metadata": {},
   "outputs": [
    {
     "name": "stdout",
     "output_type": "stream",
     "text": [
      "Registered to TMInterface0\n",
      "sleeping 3 seconds\n",
      "start recording\n"
     ]
    }
   ],
   "source": [
    "env = TrackmaniaEnv(observation_space=\"image\",\n",
    "                        dimension_reduction=6,\n",
    "                        training_track=\"Straight_Line_High\",\n",
    "                        training_mode=\"exploration\",\n",
    "                        is_testing=True,\n",
    "                        render_mode=None,\n",
    "                        action_mode=\"human\")\n",
    "\n",
    "obs, _ = env.reset()\n",
    "\n",
    "step_count = 0\n",
    "N_steps = 300\n",
    "\n",
    "asymmetry_list = []\n",
    "distance_list = []\n",
    "x_position_list = []\n",
    "\n",
    "track_center_position = 592.001\n",
    "\n",
    "y_position = np.linspace(580.4, 603.5, N_steps)\n",
    "\n",
    "y_position = np.concatenate([y_position, y_position])\n",
    "\n",
    "print(\"sleeping 3 seconds\")\n",
    "time.sleep(3)\n",
    "print(\"start recording\")\n",
    "\n",
    "while step_count < 2*N_steps:\n",
    "    \n",
    "    action = [0, 0, 0]\n",
    "    obs, reward, done, _, info = env.step(action)\n",
    "\n",
    "    _, distance_observation = env.viewer.get_obs()\n",
    "    asymmetry_list.append(distance_observation)\n",
    "\n",
    "    pos = y_position[step_count]\n",
    "    env.interface.execute_command(f\"tp 36.625 17.375 {pos}\")\n",
    "\n",
    "    time.sleep(0.01)\n",
    "\n",
    "    distance_list.append(abs(pos - track_center_position))\n",
    "    x_position_list.append(abs(env.position[0]))\n",
    "\n",
    "    \n",
    "    step_count += 1\n",
    "          \n",
    "    try:\n",
    "        if keyboard.is_pressed(\"q\"):\n",
    "            print(\"Interrupt\")\n",
    "            break\n",
    "    except:\n",
    "        pass\n",
    "\n",
    "if step_count == N_steps:\n",
    "    print(\"End of recording\")\n",
    "env.close()"
   ]
  },
  {
   "cell_type": "markdown",
   "id": "753c3429-62a4-4bd7-9f84-481410948052",
   "metadata": {},
   "source": [
    "# Display Pandas File"
   ]
  },
  {
   "cell_type": "code",
   "execution_count": 3,
   "id": "ee8c6ba8-8020-4e7a-a5ee-690caca8fed4",
   "metadata": {},
   "outputs": [
    {
     "data": {
      "text/html": [
       "<div>\n",
       "<style scoped>\n",
       "    .dataframe tbody tr th:only-of-type {\n",
       "        vertical-align: middle;\n",
       "    }\n",
       "\n",
       "    .dataframe tbody tr th {\n",
       "        vertical-align: top;\n",
       "    }\n",
       "\n",
       "    .dataframe thead th {\n",
       "        text-align: right;\n",
       "    }\n",
       "</style>\n",
       "<table border=\"1\" class=\"dataframe\">\n",
       "  <thead>\n",
       "    <tr style=\"text-align: right;\">\n",
       "      <th></th>\n",
       "      <th>asymmetry</th>\n",
       "      <th>distance</th>\n",
       "      <th>x_position</th>\n",
       "      <th>error</th>\n",
       "    </tr>\n",
       "  </thead>\n",
       "  <tbody>\n",
       "    <tr>\n",
       "      <th>300</th>\n",
       "      <td>0.959184</td>\n",
       "      <td>11.601000</td>\n",
       "      <td>36.626171</td>\n",
       "      <td>3.157015</td>\n",
       "    </tr>\n",
       "    <tr>\n",
       "      <th>301</th>\n",
       "      <td>0.953072</td>\n",
       "      <td>11.523742</td>\n",
       "      <td>36.626171</td>\n",
       "      <td>3.011081</td>\n",
       "    </tr>\n",
       "    <tr>\n",
       "      <th>302</th>\n",
       "      <td>0.963286</td>\n",
       "      <td>11.446485</td>\n",
       "      <td>36.626171</td>\n",
       "      <td>3.267206</td>\n",
       "    </tr>\n",
       "    <tr>\n",
       "      <th>303</th>\n",
       "      <td>0.965485</td>\n",
       "      <td>11.369227</td>\n",
       "      <td>36.626171</td>\n",
       "      <td>3.331243</td>\n",
       "    </tr>\n",
       "    <tr>\n",
       "      <th>304</th>\n",
       "      <td>0.968748</td>\n",
       "      <td>11.291970</td>\n",
       "      <td>36.626171</td>\n",
       "      <td>3.433909</td>\n",
       "    </tr>\n",
       "    <tr>\n",
       "      <th>...</th>\n",
       "      <td>...</td>\n",
       "      <td>...</td>\n",
       "      <td>...</td>\n",
       "      <td>...</td>\n",
       "    </tr>\n",
       "    <tr>\n",
       "      <th>595</th>\n",
       "      <td>0.958837</td>\n",
       "      <td>11.189970</td>\n",
       "      <td>36.626171</td>\n",
       "      <td>3.148193</td>\n",
       "    </tr>\n",
       "    <tr>\n",
       "      <th>596</th>\n",
       "      <td>0.957727</td>\n",
       "      <td>11.267227</td>\n",
       "      <td>36.626171</td>\n",
       "      <td>3.120408</td>\n",
       "    </tr>\n",
       "    <tr>\n",
       "      <th>597</th>\n",
       "      <td>0.956585</td>\n",
       "      <td>11.344485</td>\n",
       "      <td>36.626171</td>\n",
       "      <td>3.092555</td>\n",
       "    </tr>\n",
       "    <tr>\n",
       "      <th>598</th>\n",
       "      <td>0.957949</td>\n",
       "      <td>11.421742</td>\n",
       "      <td>36.626171</td>\n",
       "      <td>3.125914</td>\n",
       "    </tr>\n",
       "    <tr>\n",
       "      <th>599</th>\n",
       "      <td>0.959652</td>\n",
       "      <td>11.499000</td>\n",
       "      <td>36.626171</td>\n",
       "      <td>3.169035</td>\n",
       "    </tr>\n",
       "  </tbody>\n",
       "</table>\n",
       "<p>300 rows × 4 columns</p>\n",
       "</div>"
      ],
      "text/plain": [
       "     asymmetry   distance  x_position     error\n",
       "300   0.959184  11.601000   36.626171  3.157015\n",
       "301   0.953072  11.523742   36.626171  3.011081\n",
       "302   0.963286  11.446485   36.626171  3.267206\n",
       "303   0.965485  11.369227   36.626171  3.331243\n",
       "304   0.968748  11.291970   36.626171  3.433909\n",
       "..         ...        ...         ...       ...\n",
       "595   0.958837  11.189970   36.626171  3.148193\n",
       "596   0.957727  11.267227   36.626171  3.120408\n",
       "597   0.956585  11.344485   36.626171  3.092555\n",
       "598   0.957949  11.421742   36.626171  3.125914\n",
       "599   0.959652  11.499000   36.626171  3.169035\n",
       "\n",
       "[300 rows x 4 columns]"
      ]
     },
     "execution_count": 3,
     "metadata": {},
     "output_type": "execute_result"
    }
   ],
   "source": [
    "recording_df = pd.DataFrame({'asymmetry': asymmetry_list,\n",
    "                             'distance': distance_list, \n",
    "                             'x_position': x_position_list})\n",
    "\n",
    "recording_df = recording_df.iloc[N_steps:,]\n",
    "\n",
    "def inverse_sigmoid(y):\n",
    "    x = -np.log((1/y)-1)\n",
    "    return x\n",
    "\n",
    "recording_df[\"error\"] = inverse_sigmoid(recording_df[\"asymmetry\"])\n",
    "\n",
    "recording_df"
   ]
  },
  {
   "cell_type": "markdown",
   "id": "7daeb238-5232-4f0b-9794-187f27653394",
   "metadata": {},
   "source": [
    "# Record CSV File"
   ]
  },
  {
   "cell_type": "code",
   "execution_count": 4,
   "id": "119e6f34-787a-47b7-b140-e823738ef0c5",
   "metadata": {},
   "outputs": [],
   "source": [
    "file_name = f\"correlation.csv\"\n",
    "recording_df.to_csv(file_name)"
   ]
  },
  {
   "cell_type": "markdown",
   "id": "cd834bba-417b-48bd-8b88-d1c1d9192ec8",
   "metadata": {},
   "source": [
    "# Display Figure"
   ]
  },
  {
   "cell_type": "code",
   "execution_count": 15,
   "id": "7c2bebae-fa24-49d9-b7cd-3416293f835b",
   "metadata": {},
   "outputs": [
    {
     "data": {
      "text/plain": [
       "<Axes: xlabel='distance', ylabel='asymmetry'>"
      ]
     },
     "execution_count": 15,
     "metadata": {},
     "output_type": "execute_result"
    },
    {
     "data": {
      "image/png": "[encoded data removed]",
      "text/plain": [
       "<Figure size 800x300 with 1 Axes>"
      ]
     },
     "metadata": {},
     "output_type": "display_data"
    }
   ],
   "source": [
    "recording_df = pd.read_csv(\"correlation.csv\")\n",
    "plt.figure(figsize=(8,3))\n",
    "sns.scatterplot(data=recording_df.iloc[100:,], x=\"distance\", y=\"asymmetry\")"
   ]
  },
  {
   "cell_type": "markdown",
   "id": "4dc0718e-2493-4a99-b243-a226879442cb",
   "metadata": {},
   "source": [
    "# Test"
   ]
  },
  {
   "cell_type": "code",
   "execution_count": null,
   "id": "1d37872a-d97f-47d1-b9ed-ba7d0bf1c99d",
   "metadata": {},
   "outputs": [],
   "source": []
  }
 ],
 "metadata": {
  "kernelspec": {
   "display_name": "Python 3 (ipykernel)",
   "language": "python",
   "name": "python3"
  },
  "language_info": {
   "codemirror_mode": {
    "name": "ipython",
    "version": 3
   },
   "file_extension": ".py",
   "mimetype": "text/x-python",
   "name": "python",
   "nbconvert_exporter": "python",
   "pygments_lexer": "ipython3",
   "version": "3.12.2"
  }
 },
 "nbformat": 4,
 "nbformat_minor": 5
}
