{
 "cells": [
  {
   "cell_type": "code",
   "execution_count": 1,
   "metadata": {},
   "outputs": [],
   "source": [
    "import os\n",
    "import time\n",
    "import pickle\n",
    "import keyboard\n",
    "import numpy as np\n",
    "import random\n",
    "\n",
    "import tminterface as tmi\n",
    "from tminterface.interface import TMInterface, Client"
   ]
  },
  {
   "cell_type": "markdown",
   "metadata": {},
   "source": [
    "# Useful functions"
   ]
  },
  {
   "cell_type": "code",
   "execution_count": 2,
   "metadata": {},
   "outputs": [],
   "source": [
    "def discrete_to_continuous(n):\n",
    "\n",
    "    \"\"\"\n",
    "    Equivalents:\n",
    "    \n",
    "    0: no action\n",
    "    1: left\n",
    "    2: left + acceleration\n",
    "    3: acceleration\n",
    "    4: right + acceleration\n",
    "    5: right\n",
    "    \"\"\"\n",
    "\n",
    "    current_action = {\n",
    "    'sim_clear_buffer': True,  \n",
    "    \"steer\":           0,\n",
    "    \"accelerate\":      False, \n",
    "    \"brake\" :          False\n",
    "    }\n",
    "    \n",
    "    if n == 1:\n",
    "        current_action[\"steer\"] = -65536\n",
    "    if n == 2:\n",
    "        current_action[\"steer\"] = -65536\n",
    "        current_action[\"accelerate\"] = True\n",
    "    if n == 3:\n",
    "        current_action[\"accelerate\"] = True\n",
    "    if n == 4:\n",
    "        current_action[\"steer\"] = 65536\n",
    "        current_action[\"accelerate\"] = True\n",
    "    if n == 5:\n",
    "        current_action[\"steer\"] = 65536\n",
    "        \n",
    "    return current_action\n",
    "    \n",
    "\n",
    "def reset_detection(_time, position):\n",
    "    done = False\n",
    "    if position[1] < 9.2:\n",
    "        done = True\n",
    "\n",
    "    if _time >= 500:\n",
    "        if velocity()[2] < 1:\n",
    "            done = True\n",
    "\n",
    "    return done"
   ]
  },
  {
   "cell_type": "markdown",
   "metadata": {},
   "source": [
    "# Abstract Client"
   ]
  },
  {
   "cell_type": "code",
   "execution_count": 3,
   "metadata": {},
   "outputs": [],
   "source": [
    "class AbstractClient(Client):\n",
    "\n",
    "    def __init__(self):\n",
    "        super().__init__()\n",
    "        self.dna = None\n",
    "        self.period = 1.0\n",
    "        self.period_ms = np.floor(1000*self.period)\n",
    "        self.final_state = None\n",
    "        self.start_state = None\n",
    "        self.is_finish = False\n",
    "        self.finish_dna = None\n",
    "        \n",
    "    def on_registered(self, iface: TMInterface) -> None:\n",
    "        iface.execute_command(\"press delete\")\n",
    "        print(f'Registered to {iface.server_name}')\n",
    "\n",
    "    def on_run_step(self, iface, _time: int):\n",
    "        self.action(iface, _time)\n",
    "\n",
    "    def on_checkpoint_count_changed(self, iface, current: int, target: int):\n",
    "        if current >= 1 and current == target:\n",
    "            self.is_finish = True\n",
    "            self.finish_dna = self.dna.copy()\n",
    "\n",
    "    def reset_detection(self, _time, state):\n",
    "        \n",
    "        if state.position[1] < 9.2:\n",
    "            return True\n",
    "    \n",
    "        if _time >= 500:\n",
    "            local_velocity = state.scene_mobil.current_local_speed\n",
    "            local_velocity = np.array(list(local_velocity.to_numpy()))\n",
    "            local_velocity = local_velocity*3.6 \n",
    "            if local_velocity[2] < 1:\n",
    "                return True\n",
    "\n",
    "        if state.scene_mobil.has_any_lateral_contact:\n",
    "            return True\n",
    "    \n",
    "        return False\n",
    "\n",
    "    def action(self, iface, _time: int):\n",
    "        if _time >= 0 and _time < len(self.dna)*self.period_ms:\n",
    "            \n",
    "            action = self.dna[int(np.floor(_time/self.period_ms))]\n",
    "            command = discrete_to_continuous(action)\n",
    "            iface.set_input_state(**command)\n",
    "            \n",
    "            if self.reset_detection(_time, iface.get_simulation_state()):\n",
    "                self.finish(iface, _time)\n",
    "                \n",
    "        if _time == len(self.dna)*self.period_ms:\n",
    "            self.finish(iface, _time)\n",
    "\n",
    "    def finish(self, iface,  _time):\n",
    "        self.final_state = iface.get_simulation_state()\n",
    "        iface.rewind_to_state(self.start_state)"
   ]
  },
  {
   "cell_type": "markdown",
   "metadata": {},
   "source": [
    "# Training Client and Replay Client"
   ]
  },
  {
   "cell_type": "code",
   "execution_count": 4,
   "metadata": {},
   "outputs": [],
   "source": [
    "class TrainingClient(AbstractClient):\n",
    "\n",
    "    def __init__(self, period=0.5, n_trials=200):\n",
    "        super().__init__()\n",
    "        # DNA = memory + gene\n",
    "        self.memory = np.array([])\n",
    "        self.past_tries = [[]]\n",
    "        self.gene = None\n",
    "        self.generate_dna()\n",
    "        self.period = period\n",
    "        self.period_ms = np.floor(1000*self.period)\n",
    "        self.max_trials = n_trials\n",
    "        self.n_trial = 1\n",
    "\n",
    "        self.best_gene = self.gene\n",
    "        self.best_perf = 0\n",
    "        self.anchor = 0\n",
    "\n",
    "    def generate_dna(self):\n",
    "        if self.gene is not None:\n",
    "            self.past_tries.append(list(self.gene))\n",
    "        self.gene = np.random.randint(low=1, high=6, size=5)\n",
    "        while list(self.gene) in self.past_tries:\n",
    "            self.gene = np.random.randint(low=1, high=6, size=5)\n",
    "        self.dna = np.concatenate([self.memory, self.gene])\n",
    "\n",
    "    def on_run_step(self, iface, _time: int):\n",
    "        self.action(iface, _time)\n",
    "        if _time == self.anchor:\n",
    "            self.start_state = iface.get_simulation_state()\n",
    "            \n",
    "    def finish(self, iface, _time):\n",
    "        self.n_trial += 1\n",
    "        self.final_state = iface.get_simulation_state()\n",
    "\n",
    "        # OBECTIVE FUNCTION CONDITION\n",
    "        if self.final_state.position[0] > self.best_perf:\n",
    "            self.best_gene = self.gene\n",
    "            self.best_perf = self.final_state.position[0]\n",
    "\n",
    "        if self.n_trial == self.max_trials:\n",
    "            self.memory = np.concatenate([self.memory, self.best_gene[:1]])\n",
    "            self.n_trial = 0\n",
    "            print(self.memory)\n",
    "            self.past_tries = [[]]\n",
    "            self.anchor += self.period_ms\n",
    "            self.best_perf = 0\n",
    "        \n",
    "        iface.rewind_to_state(self.start_state)\n",
    "        self.generate_dna()\n",
    "        \n",
    "class ReplayClient(AbstractClient):\n",
    "\n",
    "    def __init__(self, period, dna): \n",
    "        super().__init__()\n",
    "        self.period = period\n",
    "        self.period_ms = np.floor(1000*self.period)\n",
    "        self.dna = dna\n",
    "\n",
    "    def on_run_step(self, iface, _time: int):\n",
    "        self.action(iface, _time)\n",
    "        if _time == 0:\n",
    "            self.start_state = iface.get_simulation_state()\n",
    "        \n",
    "    def finish(self, iface, _time):\n",
    "        self.final_state = iface.get_simulation_state()\n",
    "        print(self.final_state.position)\n",
    "        iface.rewind_to_state(self.start_state)"
   ]
  },
  {
   "cell_type": "markdown",
   "metadata": {},
   "source": [
    "## Training Client"
   ]
  },
  {
   "cell_type": "code",
   "execution_count": 5,
   "metadata": {},
   "outputs": [
    {
     "name": "stdout",
     "output_type": "stream",
     "text": [
      "Start\n",
      "Registered to TMInterface0\n",
      "[2.]\n",
      "[2. 3.]\n",
      "[2. 3. 4.]\n",
      "[2. 3. 4. 2.]\n",
      "[2. 3. 4. 2. 1.]\n",
      "[2. 3. 4. 2. 1. 4.]\n",
      "[2. 3. 4. 2. 1. 4. 3.]\n",
      "[2. 3. 4. 2. 1. 4. 3. 3.]\n",
      "[2. 3. 4. 2. 1. 4. 3. 3. 2.]\n",
      "[2. 3. 4. 2. 1. 4. 3. 3. 2. 2.]\n",
      "[2. 3. 4. 2. 1. 4. 3. 3. 2. 2. 4.]\n",
      "[2. 3. 4. 2. 1. 4. 3. 3. 2. 2. 4. 4.]\n",
      "[2. 3. 4. 2. 1. 4. 3. 3. 2. 2. 4. 4. 4.]\n",
      "[2. 3. 4. 2. 1. 4. 3. 3. 2. 2. 4. 4. 4. 4.]\n",
      "[2. 3. 4. 2. 1. 4. 3. 3. 2. 2. 4. 4. 4. 4. 2.]\n",
      "[2. 3. 4. 2. 1. 4. 3. 3. 2. 2. 4. 4. 4. 4. 2. 5.]\n",
      "[2. 3. 4. 2. 1. 4. 3. 3. 2. 2. 4. 4. 4. 4. 2. 5. 5.]\n",
      "[2. 3. 4. 2. 1. 4. 3. 3. 2. 2. 4. 4. 4. 4. 2. 5. 5. 3.]\n",
      "[2. 3. 4. 2. 1. 4. 3. 3. 2. 2. 4. 4. 4. 4. 2. 5. 5. 3. 4.]\n",
      "[2. 3. 4. 2. 1. 4. 3. 3. 2. 2. 4. 4. 4. 4. 2. 5. 5. 3. 4. 2.]\n",
      "[2. 3. 4. 2. 1. 4. 3. 3. 2. 2. 4. 4. 4. 4. 2. 5. 5. 3. 4. 2. 2.]\n",
      "[2. 3. 4. 2. 1. 4. 3. 3. 2. 2. 4. 4. 4. 4. 2. 5. 5. 3. 4. 2. 2. 2.]\n",
      "[2. 3. 4. 2. 1. 4. 3. 3. 2. 2. 4. 4. 4. 4. 2. 5. 5. 3. 4. 2. 2. 2. 3.]\n",
      "[2. 3. 4. 2. 1. 4. 3. 3. 2. 2. 4. 4. 4. 4. 2. 5. 5. 3. 4. 2. 2. 2. 3. 5.]\n",
      "[2. 3. 4. 2. 1. 4. 3. 3. 2. 2. 4. 4. 4. 4. 2. 5. 5. 3. 4. 2. 2. 2. 3. 5.\n",
      " 2.]\n",
      "[2. 3. 4. 2. 1. 4. 3. 3. 2. 2. 4. 4. 4. 4. 2. 5. 5. 3. 4. 2. 2. 2. 3. 5.\n",
      " 2. 3.]\n",
      "[2. 3. 4. 2. 1. 4. 3. 3. 2. 2. 4. 4. 4. 4. 2. 5. 5. 3. 4. 2. 2. 2. 3. 5.\n",
      " 2. 3. 5.]\n",
      "[2. 3. 4. 2. 1. 4. 3. 3. 2. 2. 4. 4. 4. 4. 2. 5. 5. 3. 4. 2. 2. 2. 3. 5.\n",
      " 2. 3. 5. 1.]\n",
      "[2. 3. 4. 2. 1. 4. 3. 3. 2. 2. 4. 4. 4. 4. 2. 5. 5. 3. 4. 2. 2. 2. 3. 5.\n",
      " 2. 3. 5. 1. 1.]\n",
      "[2. 3. 4. 2. 1. 4. 3. 3. 2. 2. 4. 4. 4. 4. 2. 5. 5. 3. 4. 2. 2. 2. 3. 5.\n",
      " 2. 3. 5. 1. 1. 2.]\n",
      "Keybord Interrupt\n",
      "[2. 3. 4. 2. 1. 4. 3. 3. 2. 2. 4. 4. 4. 4. 2. 5. 5. 3. 4. 2. 2. 2. 3. 5.\n",
      " 2. 3. 5. 1. 1. 2.]\n"
     ]
    }
   ],
   "source": [
    "interface = TMInterface()\n",
    "client = TrainingClient(period= 0.5, n_trials=75)\n",
    "\n",
    "interface.register(client)\n",
    "print(\"Start\")\n",
    "\n",
    "while client.is_finish is False:\n",
    "    time.sleep(0.001)\n",
    "\n",
    "    if keyboard.is_pressed(\"q\"):\n",
    "        print(\"Keybord Interrupt\")\n",
    "        break\n",
    "\n",
    "if client.is_finish:\n",
    "    best_memory = client.memory + client.finish_dna\n",
    "else:\n",
    "    best_memory = client.memory\n",
    "\n",
    "interface.close()\n",
    "best_dna = client.memory\n",
    "print(best_dna)"
   ]
  },
  {
   "cell_type": "markdown",
   "metadata": {},
   "source": [
    "## Replay Client"
   ]
  },
  {
   "cell_type": "code",
   "execution_count": 6,
   "metadata": {},
   "outputs": [
    {
     "name": "stdout",
     "output_type": "stream",
     "text": [
      "Start\n",
      "Registered to TMInterface0\n",
      "[347.8049011230469, 9.383550643920898, 467.6280212402344]\n",
      "[329.71484375, 9.384645462036133, 474.2113342285156]\n",
      "[329.71484375, 9.384645462036133, 474.2113342285156]\n",
      "[329.71484375, 9.384645462036133, 474.2113342285156]\n",
      "[329.71484375, 9.384645462036133, 474.2113342285156]\n",
      "[329.71484375, 9.384645462036133, 474.2113342285156]\n",
      "[329.71484375, 9.384645462036133, 474.2113342285156]\n",
      "[329.71484375, 9.384645462036133, 474.2113342285156]\n",
      "[329.71484375, 9.384645462036133, 474.2113342285156]\n",
      "[329.71484375, 9.384645462036133, 474.2113342285156]\n",
      "[329.71484375, 9.384645462036133, 474.2113342285156]\n",
      "[329.71484375, 9.384645462036133, 474.2113342285156]\n",
      "[329.71484375, 9.384645462036133, 474.2113342285156]\n",
      "[329.71484375, 9.384645462036133, 474.2113342285156]\n",
      "Keybord Interrupt\n"
     ]
    }
   ],
   "source": [
    "interface = TMInterface()\n",
    "client = ReplayClient(period= 0.5, dna=best_memory)\n",
    "\n",
    "interface.register(client)\n",
    "print(\"Start\")\n",
    "\n",
    "while True:\n",
    "    time.sleep(0.001)\n",
    "\n",
    "    if keyboard.is_pressed(\"q\"):\n",
    "        print(\"Keybord Interrupt\")\n",
    "        break\n",
    "\n",
    "interface.close()"
   ]
  },
  {
   "cell_type": "markdown",
   "metadata": {},
   "source": [
    "# Testing"
   ]
  },
  {
   "cell_type": "code",
   "execution_count": 75,
   "metadata": {},
   "outputs": [],
   "source": [
    "best_memory = np.array([2., 3., 4., 3., 2., 2., 4., 2., 3., 3., 3., 5., 4., 4., 3., 4., 2.,\n",
    "       5., 5., 2., 1., 2., 2., 2., 3., 3., 4., 4., 5., 4., 3., 4., 1., 1.,\n",
    "       2., 5., 3., 1., 2., 4., 2., 2., 3., 4.])"
   ]
  },
  {
   "cell_type": "code",
   "execution_count": 74,
   "metadata": {},
   "outputs": [
    {
     "data": {
      "text/plain": [
       "array([2., 3., 4., 3., 2., 2., 4., 2., 3., 3., 3., 5., 4., 4., 3., 4., 2.,\n",
       "       5., 5., 2., 1., 2., 2., 2., 3., 3., 4., 4., 5., 4., 3., 4., 1., 1.,\n",
       "       2., 5., 3., 1., 2., 4., 2., 2., 3., 4.])"
      ]
     },
     "execution_count": 74,
     "metadata": {},
     "output_type": "execute_result"
    }
   ],
   "source": [
    "client.memory"
   ]
  }
 ],
 "metadata": {
  "kernelspec": {
   "display_name": "Python 3 (ipykernel)",
   "language": "python",
   "name": "python3"
  },
  "language_info": {
   "codemirror_mode": {
    "name": "ipython",
    "version": 3
   },
   "file_extension": ".py",
   "mimetype": "text/x-python",
   "name": "python",
   "nbconvert_exporter": "python",
   "pygments_lexer": "ipython3",
   "version": "3.12.2"
  }
 },
 "nbformat": 4,
 "nbformat_minor": 4
}
