{
 "cells": [
  {
   "cell_type": "code",
   "execution_count": 88,
   "id": "fa5e300e",
   "metadata": {},
   "outputs": [],
   "source": [
    "import numpy as np\n",
    "\n",
    "from scipy.interpolate import interp1d\n",
    "from scipy.signal import argrelmin\n",
    "\n",
    "from sklearn.preprocessing import normalize\n",
    "import matplotlib.pyplot as plt\n",
    "\n",
    "import os\n",
    "import pickle"
   ]
  },
  {
   "cell_type": "markdown",
   "id": "6189013d-ce96-42e4-be29-f42fcd90c74d",
   "metadata": {},
   "source": [
    "# Load Positions"
   ]
  },
  {
   "cell_type": "code",
   "execution_count": 92,
   "id": "bb04d31f-6df0-4b6f-94bb-dc0251d67a29",
   "metadata": {},
   "outputs": [
    {
     "data": {
      "text/plain": [
       "(63, 3)"
      ]
     },
     "execution_count": 92,
     "metadata": {},
     "output_type": "execute_result"
    }
   ],
   "source": [
    "run_folder = \"track_data/Straight_Line/run-2\"\n",
    "positions = pickle.load(open(os.path.join(run_folder, \"positions.pkl\"), \"rb\"))\n",
    "\n",
    "raw_points = [list(pos['position'].to_numpy()) for pos in positions]\n",
    "    \n",
    "# remove duplicates:\n",
    "points = [raw_points[0]]\n",
    "for point in raw_points[1:]:\n",
    "    if point != points[-1]:\n",
    "        points.append(point)\n",
    "\n",
    "points = np.array(points)\n",
    "points.shape"
   ]
  },
  {
   "cell_type": "markdown",
   "id": "0402a7c5-910b-44dc-9eeb-29f25787d08d",
   "metadata": {},
   "source": [
    "# Testing"
   ]
  },
  {
   "cell_type": "code",
   "execution_count": 45,
   "id": "3d84c5b0-e1f6-49c4-8ff9-50af28e52f25",
   "metadata": {},
   "outputs": [
    {
     "data": {
      "text/plain": [
       "array([[  0,   0,   0],\n",
       "       [ 10,   0,   0],\n",
       "       [100,   0,   0]])"
      ]
     },
     "execution_count": 45,
     "metadata": {},
     "output_type": "execute_result"
    }
   ],
   "source": [
    "points = np.array([[0, 0, 0], \n",
    "                   [10, 0, 0],\n",
    "                   [100, 0, 0]])\n",
    "points"
   ]
  },
  {
   "cell_type": "markdown",
   "id": "c7be2e63",
   "metadata": {},
   "source": [
    "# Parametric Curve"
   ]
  },
  {
   "cell_type": "code",
   "execution_count": 46,
   "id": "f91c6f2e",
   "metadata": {},
   "outputs": [
    {
     "data": {
      "image/png": "[encoded data removed]",
      "text/plain": [
       "<Figure size 700x700 with 1 Axes>"
      ]
     },
     "metadata": {},
     "output_type": "display_data"
    }
   ],
   "source": [
    "# Linear length along the line:\n",
    "distance = np.cumsum( np.sqrt(np.sum( np.diff(points, axis=0)**2, axis=1 )))\n",
    "distance = np.insert(distance, 0, 0)/distance[-1]\n",
    "\n",
    "# Interpolation for different methods:\n",
    "interpolations_methods = ['slinear']\n",
    "alpha = np.linspace(0, 1, 1000)\n",
    "\n",
    "interpolated_points = {}\n",
    "for method in interpolations_methods:\n",
    "    interpolator =  interp1d(distance, points, kind=method, axis=0)\n",
    "    interpolated_points[method] = interpolator(alpha)\n",
    "\n",
    "# Graph:\n",
    "plt.figure(figsize=(7,7))\n",
    "for method_name, curve in interpolated_points.items():\n",
    "    plt.plot(*curve[:, [0, 2]].T, '-', label=method_name);\n",
    "\n",
    "# plt.plot(*points[:, [0, 2]].T, 'ok', label='original points');\n",
    "# plt.axis('equal'); plt.legend(); plt.xlabel('x'); plt.ylabel('y');"
   ]
  },
  {
   "cell_type": "code",
   "execution_count": 63,
   "id": "db788a29-1566-43b3-b654-818265a00da5",
   "metadata": {},
   "outputs": [],
   "source": [
    "distance = np.array([0, 0.5, 1])"
   ]
  },
  {
   "cell_type": "code",
   "execution_count": 64,
   "id": "6cd47b85",
   "metadata": {},
   "outputs": [
    {
     "data": {
      "text/plain": [
       "array([[  0.        ,   0.        ,   0.        ],\n",
       "       [  0.2020202 ,   0.        ,   0.        ],\n",
       "       [  0.4040404 ,   0.        ,   0.        ],\n",
       "       [  0.60606061,   0.        ,   0.        ],\n",
       "       [  0.80808081,   0.        ,   0.        ],\n",
       "       [  1.01010101,   0.        ,   0.        ],\n",
       "       [  1.21212121,   0.        ,   0.        ],\n",
       "       [  1.41414141,   0.        ,   0.        ],\n",
       "       [  1.61616162,   0.        ,   0.        ],\n",
       "       [  1.81818182,   0.        ,   0.        ],\n",
       "       [  2.02020202,   0.        ,   0.        ],\n",
       "       [  2.22222222,   0.        ,   0.        ],\n",
       "       [  2.42424242,   0.        ,   0.        ],\n",
       "       [  2.62626263,   0.        ,   0.        ],\n",
       "       [  2.82828283,   0.        ,   0.        ],\n",
       "       [  3.03030303,   0.        ,   0.        ],\n",
       "       [  3.23232323,   0.        ,   0.        ],\n",
       "       [  3.43434343,   0.        ,   0.        ],\n",
       "       [  3.63636364,   0.        ,   0.        ],\n",
       "       [  3.83838384,   0.        ,   0.        ],\n",
       "       [  4.04040404,   0.        ,   0.        ],\n",
       "       [  4.24242424,   0.        ,   0.        ],\n",
       "       [  4.44444444,   0.        ,   0.        ],\n",
       "       [  4.64646465,   0.        ,   0.        ],\n",
       "       [  4.84848485,   0.        ,   0.        ],\n",
       "       [  5.05050505,   0.        ,   0.        ],\n",
       "       [  5.25252525,   0.        ,   0.        ],\n",
       "       [  5.45454545,   0.        ,   0.        ],\n",
       "       [  5.65656566,   0.        ,   0.        ],\n",
       "       [  5.85858586,   0.        ,   0.        ],\n",
       "       [  6.06060606,   0.        ,   0.        ],\n",
       "       [  6.26262626,   0.        ,   0.        ],\n",
       "       [  6.46464646,   0.        ,   0.        ],\n",
       "       [  6.66666667,   0.        ,   0.        ],\n",
       "       [  6.86868687,   0.        ,   0.        ],\n",
       "       [  7.07070707,   0.        ,   0.        ],\n",
       "       [  7.27272727,   0.        ,   0.        ],\n",
       "       [  7.47474747,   0.        ,   0.        ],\n",
       "       [  7.67676768,   0.        ,   0.        ],\n",
       "       [  7.87878788,   0.        ,   0.        ],\n",
       "       [  8.08080808,   0.        ,   0.        ],\n",
       "       [  8.28282828,   0.        ,   0.        ],\n",
       "       [  8.48484848,   0.        ,   0.        ],\n",
       "       [  8.68686869,   0.        ,   0.        ],\n",
       "       [  8.88888889,   0.        ,   0.        ],\n",
       "       [  9.09090909,   0.        ,   0.        ],\n",
       "       [  9.29292929,   0.        ,   0.        ],\n",
       "       [  9.49494949,   0.        ,   0.        ],\n",
       "       [  9.6969697 ,   0.        ,   0.        ],\n",
       "       [  9.8989899 ,   0.        ,   0.        ],\n",
       "       [ 10.90909091,   0.        ,   0.        ],\n",
       "       [ 12.72727273,   0.        ,   0.        ],\n",
       "       [ 14.54545455,   0.        ,   0.        ],\n",
       "       [ 16.36363636,   0.        ,   0.        ],\n",
       "       [ 18.18181818,   0.        ,   0.        ],\n",
       "       [ 20.        ,   0.        ,   0.        ],\n",
       "       [ 21.81818182,   0.        ,   0.        ],\n",
       "       [ 23.63636364,   0.        ,   0.        ],\n",
       "       [ 25.45454545,   0.        ,   0.        ],\n",
       "       [ 27.27272727,   0.        ,   0.        ],\n",
       "       [ 29.09090909,   0.        ,   0.        ],\n",
       "       [ 30.90909091,   0.        ,   0.        ],\n",
       "       [ 32.72727273,   0.        ,   0.        ],\n",
       "       [ 34.54545455,   0.        ,   0.        ],\n",
       "       [ 36.36363636,   0.        ,   0.        ],\n",
       "       [ 38.18181818,   0.        ,   0.        ],\n",
       "       [ 40.        ,   0.        ,   0.        ],\n",
       "       [ 41.81818182,   0.        ,   0.        ],\n",
       "       [ 43.63636364,   0.        ,   0.        ],\n",
       "       [ 45.45454545,   0.        ,   0.        ],\n",
       "       [ 47.27272727,   0.        ,   0.        ],\n",
       "       [ 49.09090909,   0.        ,   0.        ],\n",
       "       [ 50.90909091,   0.        ,   0.        ],\n",
       "       [ 52.72727273,   0.        ,   0.        ],\n",
       "       [ 54.54545455,   0.        ,   0.        ],\n",
       "       [ 56.36363636,   0.        ,   0.        ],\n",
       "       [ 58.18181818,   0.        ,   0.        ],\n",
       "       [ 60.        ,   0.        ,   0.        ],\n",
       "       [ 61.81818182,   0.        ,   0.        ],\n",
       "       [ 63.63636364,   0.        ,   0.        ],\n",
       "       [ 65.45454545,   0.        ,   0.        ],\n",
       "       [ 67.27272727,   0.        ,   0.        ],\n",
       "       [ 69.09090909,   0.        ,   0.        ],\n",
       "       [ 70.90909091,   0.        ,   0.        ],\n",
       "       [ 72.72727273,   0.        ,   0.        ],\n",
       "       [ 74.54545455,   0.        ,   0.        ],\n",
       "       [ 76.36363636,   0.        ,   0.        ],\n",
       "       [ 78.18181818,   0.        ,   0.        ],\n",
       "       [ 80.        ,   0.        ,   0.        ],\n",
       "       [ 81.81818182,   0.        ,   0.        ],\n",
       "       [ 83.63636364,   0.        ,   0.        ],\n",
       "       [ 85.45454545,   0.        ,   0.        ],\n",
       "       [ 87.27272727,   0.        ,   0.        ],\n",
       "       [ 89.09090909,   0.        ,   0.        ],\n",
       "       [ 90.90909091,   0.        ,   0.        ],\n",
       "       [ 92.72727273,   0.        ,   0.        ],\n",
       "       [ 94.54545455,   0.        ,   0.        ],\n",
       "       [ 96.36363636,   0.        ,   0.        ],\n",
       "       [ 98.18181818,   0.        ,   0.        ],\n",
       "       [100.        ,   0.        ,   0.        ]])"
      ]
     },
     "execution_count": 64,
     "metadata": {},
     "output_type": "execute_result"
    }
   ],
   "source": [
    "interpolator =  interp1d(distance, points, kind='slinear', axis=0)\n",
    "alpha = np.linspace(0, 1, 100)\n",
    "curve = interpolator(alpha)\n",
    "curve"
   ]
  },
  {
   "cell_type": "markdown",
   "id": "436bd6d0",
   "metadata": {},
   "source": [
    "# Closest Point"
   ]
  },
  {
   "cell_type": "code",
   "execution_count": 65,
   "id": "8c4474d4",
   "metadata": {},
   "outputs": [],
   "source": [
    "def distance_3D(x, y, z, x0, y0, z0):\n",
    "    d_x = x - x0\n",
    "    d_y = y - y0\n",
    "    d_z = z - z0\n",
    "    dis = np.sqrt( d_x**2 + d_y**2 + d_z**2)\n",
    "    return dis"
   ]
  },
  {
   "cell_type": "code",
   "execution_count": 66,
   "id": "02945e45",
   "metadata": {},
   "outputs": [
    {
     "data": {
      "text/plain": [
       "array([[0.00000000e+00, 0.00000000e+00, 0.00000000e+00],\n",
       "       [2.00020002e-03, 0.00000000e+00, 0.00000000e+00],\n",
       "       [4.00040004e-03, 0.00000000e+00, 0.00000000e+00],\n",
       "       ...,\n",
       "       [9.99639964e+01, 0.00000000e+00, 0.00000000e+00],\n",
       "       [9.99819982e+01, 0.00000000e+00, 0.00000000e+00],\n",
       "       [1.00000000e+02, 0.00000000e+00, 0.00000000e+00]])"
      ]
     },
     "execution_count": 66,
     "metadata": {},
     "output_type": "execute_result"
    }
   ],
   "source": [
    "# This is what we really got\n",
    "t = np.linspace(0, 1, 10_000)\n",
    "coords = interpolator(t)\n",
    "x = coords[:,0]\n",
    "y = coords[:,1]\n",
    "z = coords[:,2]\n",
    "coords"
   ]
  },
  {
   "cell_type": "code",
   "execution_count": 77,
   "id": "9709daa1",
   "metadata": {},
   "outputs": [
    {
     "name": "stdout",
     "output_type": "stream",
     "text": [
      "5555\n"
     ]
    }
   ],
   "source": [
    "# The point P\n",
    "P = (20, 0, 0)\n",
    "\n",
    "# compute distance\n",
    "dis = distance_3D(x, y, z, P[0], P[1], P[2])\n",
    "# find the minima\n",
    "glob_min_idx = np.argmin(dis)\n",
    "# coordinates and distance\n",
    "min_x = x[glob_min_idx]\n",
    "min_y = y[glob_min_idx]\n",
    "min_z = z[glob_min_idx]\n",
    "min_d = dis[glob_min_idx]\n",
    "\n",
    "print(glob_min_idx)"
   ]
  },
  {
   "cell_type": "code",
   "execution_count": 78,
   "id": "98753582",
   "metadata": {
    "scrolled": true
   },
   "outputs": [
    {
     "data": {
      "text/plain": [
       "array([20.,  0.,  0.])"
      ]
     },
     "execution_count": 78,
     "metadata": {},
     "output_type": "execute_result"
    }
   ],
   "source": [
    "interpolator(t[glob_min_idx])"
   ]
  },
  {
   "cell_type": "code",
   "execution_count": 79,
   "id": "5f97ee3d",
   "metadata": {},
   "outputs": [
    {
     "name": "stdout",
     "output_type": "stream",
     "text": [
      "20.000000000000007 0.0 0.0\n"
     ]
    }
   ],
   "source": [
    "print(min_x, min_y, min_z)"
   ]
  },
  {
   "cell_type": "code",
   "execution_count": 80,
   "id": "843c28e5-59b6-46a6-bc2b-6b3134535ec5",
   "metadata": {},
   "outputs": [
    {
     "data": {
      "text/plain": [
       "7.105427357601002e-15"
      ]
     },
     "execution_count": 80,
     "metadata": {},
     "output_type": "execute_result"
    }
   ],
   "source": [
    "min_d"
   ]
  },
  {
   "cell_type": "code",
   "execution_count": 81,
   "id": "681a3a21",
   "metadata": {},
   "outputs": [
    {
     "data": {
      "image/png": "[encoded data removed]",
      "text/plain": [
       "<Figure size 700x700 with 1 Axes>"
      ]
     },
     "metadata": {},
     "output_type": "display_data"
    }
   ],
   "source": [
    "fig, ax = plt.subplots(figsize=(7, 7))\n",
    "\n",
    "ax.plot(x, z, lw=2)\n",
    "ax.plot(\n",
    "    [P[0], min_x],\n",
    "    [P[2], min_z],\n",
    "    'k--', lw=1,\n",
    "    label=f'distance {min_d:.2f}'\n",
    ")\n",
    "\n",
    "display_P = (P[0], P[2])\n",
    "ax.plot(*display_P, 'or')\n",
    "ax.text(\n",
    "    P[0], P[2], \n",
    "    f\"  P ({P[0]}, {P[2]})\", \n",
    "    ha='left', va='center',\n",
    "    fontsize=15\n",
    ")\n",
    "ax.legend()\n",
    "plt.show()"
   ]
  },
  {
   "cell_type": "markdown",
   "id": "18cbcc4e-9c2c-48f8-bf2b-bb488c875cbc",
   "metadata": {},
   "source": [
    "# Test"
   ]
  },
  {
   "cell_type": "code",
   "execution_count": 87,
   "id": "64bad83b-b842-402b-8031-5d2b068dc3c0",
   "metadata": {},
   "outputs": [
    {
     "data": {
      "text/plain": [
       "145.92"
      ]
     },
     "execution_count": 87,
     "metadata": {},
     "output_type": "execute_result"
    }
   ],
   "source": [
    "positions = pickle.load(open(os.path.join(run_folder, \"positions.pkl\"), \"rb\"))\n",
    "positions[-1][\"time\"]/1_000"
   ]
  }
 ],
 "metadata": {
  "kernelspec": {
   "display_name": "Python 3 (ipykernel)",
   "language": "python",
   "name": "python3"
  },
  "language_info": {
   "codemirror_mode": {
    "name": "ipython",
    "version": 3
   },
   "file_extension": ".py",
   "mimetype": "text/x-python",
   "name": "python",
   "nbconvert_exporter": "python",
   "pygments_lexer": "ipython3",
   "version": "3.12.2"
  }
 },
 "nbformat": 4,
 "nbformat_minor": 5
}
